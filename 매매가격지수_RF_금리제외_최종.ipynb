{
  "nbformat": 4,
  "nbformat_minor": 0,
  "metadata": {
    "colab": {
      "name": "매매가격지수_RF_금리제외_최종.ipynb",
      "provenance": [],
      "collapsed_sections": [],
      "include_colab_link": true
    },
    "kernelspec": {
      "name": "python3",
      "display_name": "Python 3"
    },
    "language_info": {
      "name": "python"
    }
  },
  "cells": [
    {
      "cell_type": "markdown",
      "metadata": {
        "id": "view-in-github",
        "colab_type": "text"
      },
      "source": [
        "<a href=\"https://colab.research.google.com/github/JUHYUN030/Hanium_project/blob/main/%EB%A7%A4%EB%A7%A4%EA%B0%80%EA%B2%A9%EC%A7%80%EC%88%98_RF_%EA%B8%88%EB%A6%AC%EC%A0%9C%EC%99%B8_%EC%B5%9C%EC%A2%85.ipynb\" target=\"_parent\"><img src=\"https://colab.research.google.com/assets/colab-badge.svg\" alt=\"Open In Colab\"/></a>"
      ]
    },
    {
      "cell_type": "code",
      "metadata": {
        "colab": {
          "base_uri": "https://localhost:8080/"
        },
        "id": "Feyv4dolyNAW",
        "outputId": "4becdbb9-180a-4377-bf56-82535525b568"
      },
      "source": [
        "import warnings\n",
        "warnings.filterwarnings('ignore')\n",
        "\n",
        "import pandas as pd\n",
        "import numpy as np\n",
        "\n",
        "import matplotlib as mpl\n",
        "import matplotlib.pyplot as plt\n",
        "import seaborn as sns\n",
        "\n",
        "# 노트북 안에 그래프를 그리기 위해\n",
        "%matplotlib inline\n",
        "\n",
        "# 그래프에서 마이너스 폰트 깨지는 문제에 대한 대처\n",
        "mpl.rcParams['axes.unicode_minus'] = False\n",
        "\n",
        "from sklearn.model_selection import GridSearchCV\n",
        "from sklearn.model_selection import cross_val_score\n",
        "from sklearn.model_selection import train_test_split\n",
        "from sklearn.neighbors import KNeighborsClassifier\n",
        "from sklearn.ensemble import RandomForestClassifier, RandomForestRegressor\n",
        "from sklearn.tree import DecisionTreeClassifier, DecisionTreeRegressor\n",
        "from sklearn.metrics import accuracy_score, recall_score, precision_score, mean_squared_error, mean_absolute_error, r2_score\n",
        "from tqdm import tqdm\n",
        "from sklearn.model_selection import KFold\n",
        "\n",
        "import warnings\n",
        "warnings.filterwarnings('ignore')\n",
        "\n",
        "!sudo apt-get install -y fonts-nanum\n",
        "!sudo fc-cache -fv\n",
        "!rm ~/.cache/matplotlib -rf"
      ],
      "execution_count": null,
      "outputs": [
        {
          "output_type": "stream",
          "name": "stdout",
          "text": [
            "Reading package lists... Done\n",
            "Building dependency tree       \n",
            "Reading state information... Done\n",
            "The following NEW packages will be installed:\n",
            "  fonts-nanum\n",
            "0 upgraded, 1 newly installed, 0 to remove and 37 not upgraded.\n",
            "Need to get 9,604 kB of archives.\n",
            "After this operation, 29.5 MB of additional disk space will be used.\n",
            "Get:1 http://archive.ubuntu.com/ubuntu bionic/universe amd64 fonts-nanum all 20170925-1 [9,604 kB]\n",
            "Fetched 9,604 kB in 1s (6,616 kB/s)\n",
            "debconf: unable to initialize frontend: Dialog\n",
            "debconf: (No usable dialog-like program is installed, so the dialog based frontend cannot be used. at /usr/share/perl5/Debconf/FrontEnd/Dialog.pm line 76, <> line 1.)\n",
            "debconf: falling back to frontend: Readline\n",
            "debconf: unable to initialize frontend: Readline\n",
            "debconf: (This frontend requires a controlling tty.)\n",
            "debconf: falling back to frontend: Teletype\n",
            "dpkg-preconfigure: unable to re-open stdin: \n",
            "Selecting previously unselected package fonts-nanum.\n",
            "(Reading database ... 155013 files and directories currently installed.)\n",
            "Preparing to unpack .../fonts-nanum_20170925-1_all.deb ...\n",
            "Unpacking fonts-nanum (20170925-1) ...\n",
            "Setting up fonts-nanum (20170925-1) ...\n",
            "Processing triggers for fontconfig (2.12.6-0ubuntu2) ...\n",
            "/usr/share/fonts: caching, new cache contents: 0 fonts, 1 dirs\n",
            "/usr/share/fonts/truetype: caching, new cache contents: 0 fonts, 3 dirs\n",
            "/usr/share/fonts/truetype/humor-sans: caching, new cache contents: 1 fonts, 0 dirs\n",
            "/usr/share/fonts/truetype/liberation: caching, new cache contents: 16 fonts, 0 dirs\n",
            "/usr/share/fonts/truetype/nanum: caching, new cache contents: 10 fonts, 0 dirs\n",
            "/usr/local/share/fonts: caching, new cache contents: 0 fonts, 0 dirs\n",
            "/root/.local/share/fonts: skipping, no such directory\n",
            "/root/.fonts: skipping, no such directory\n",
            "/var/cache/fontconfig: cleaning cache directory\n",
            "/root/.cache/fontconfig: not cleaning non-existent cache directory\n",
            "/root/.fontconfig: not cleaning non-existent cache directory\n",
            "fc-cache: succeeded\n"
          ]
        }
      ]
    },
    {
      "cell_type": "code",
      "metadata": {
        "id": "PXfxSQq5yWb-"
      },
      "source": [
        "# Colab 의 한글 폰트 설정\n",
        "plt.rc('font', family='NanumBarunGothic')"
      ],
      "execution_count": null,
      "outputs": []
    },
    {
      "cell_type": "code",
      "metadata": {
        "colab": {
          "base_uri": "https://localhost:8080/",
          "height": 418
        },
        "id": "Hhl2Hu4YyWhP",
        "outputId": "ace00a76-6a55-4daf-9fb7-49783a756421"
      },
      "source": [
        "df = pd.read_csv('/content/월별_코스피지수_수정_202012.csv', encoding= 'utf-8')\n",
        "df"
      ],
      "execution_count": null,
      "outputs": [
        {
          "output_type": "execute_result",
          "data": {
            "text/html": [
              "<div>\n",
              "<style scoped>\n",
              "    .dataframe tbody tr th:only-of-type {\n",
              "        vertical-align: middle;\n",
              "    }\n",
              "\n",
              "    .dataframe tbody tr th {\n",
              "        vertical-align: top;\n",
              "    }\n",
              "\n",
              "    .dataframe thead th {\n",
              "        text-align: right;\n",
              "    }\n",
              "</style>\n",
              "<table border=\"1\" class=\"dataframe\">\n",
              "  <thead>\n",
              "    <tr style=\"text-align: right;\">\n",
              "      <th></th>\n",
              "      <th>시점</th>\n",
              "      <th>코스피지수</th>\n",
              "    </tr>\n",
              "  </thead>\n",
              "  <tbody>\n",
              "    <tr>\n",
              "      <th>0</th>\n",
              "      <td>2012. 01</td>\n",
              "      <td>1891.01</td>\n",
              "    </tr>\n",
              "    <tr>\n",
              "      <th>1</th>\n",
              "      <td>2012. 02</td>\n",
              "      <td>2003.23</td>\n",
              "    </tr>\n",
              "    <tr>\n",
              "      <th>2</th>\n",
              "      <td>2012. 03</td>\n",
              "      <td>2023.41</td>\n",
              "    </tr>\n",
              "    <tr>\n",
              "      <th>3</th>\n",
              "      <td>2012. 04</td>\n",
              "      <td>1995.92</td>\n",
              "    </tr>\n",
              "    <tr>\n",
              "      <th>4</th>\n",
              "      <td>2012. 05</td>\n",
              "      <td>1886.35</td>\n",
              "    </tr>\n",
              "    <tr>\n",
              "      <th>...</th>\n",
              "      <td>...</td>\n",
              "      <td>...</td>\n",
              "    </tr>\n",
              "    <tr>\n",
              "      <th>103</th>\n",
              "      <td>2020. 08</td>\n",
              "      <td>2349.87</td>\n",
              "    </tr>\n",
              "    <tr>\n",
              "      <th>104</th>\n",
              "      <td>2020. 09</td>\n",
              "      <td>2371.52</td>\n",
              "    </tr>\n",
              "    <tr>\n",
              "      <th>105</th>\n",
              "      <td>2020. 10</td>\n",
              "      <td>2357.82</td>\n",
              "    </tr>\n",
              "    <tr>\n",
              "      <th>106</th>\n",
              "      <td>2020. 11</td>\n",
              "      <td>2504.18</td>\n",
              "    </tr>\n",
              "    <tr>\n",
              "      <th>107</th>\n",
              "      <td>2020. 12</td>\n",
              "      <td>2755.77</td>\n",
              "    </tr>\n",
              "  </tbody>\n",
              "</table>\n",
              "<p>108 rows × 2 columns</p>\n",
              "</div>"
            ],
            "text/plain": [
              "           시점    코스피지수\n",
              "0    2012. 01  1891.01\n",
              "1    2012. 02  2003.23\n",
              "2    2012. 03  2023.41\n",
              "3    2012. 04  1995.92\n",
              "4    2012. 05  1886.35\n",
              "..        ...      ...\n",
              "103  2020. 08  2349.87\n",
              "104  2020. 09  2371.52\n",
              "105  2020. 10  2357.82\n",
              "106  2020. 11  2504.18\n",
              "107  2020. 12  2755.77\n",
              "\n",
              "[108 rows x 2 columns]"
            ]
          },
          "metadata": {},
          "execution_count": 3
        }
      ]
    },
    {
      "cell_type": "code",
      "metadata": {
        "colab": {
          "base_uri": "https://localhost:8080/",
          "height": 418
        },
        "id": "8ML_Z2tFyWet",
        "outputId": "0c2c7442-d2a8-4ed9-d986-a2a0f109971b"
      },
      "source": [
        "df1 = pd.read_csv('/content/월간_매매가격지수_아파트_수정_202012.csv', encoding= 'utf-8')\n",
        "df1"
      ],
      "execution_count": null,
      "outputs": [
        {
          "output_type": "execute_result",
          "data": {
            "text/html": [
              "<div>\n",
              "<style scoped>\n",
              "    .dataframe tbody tr th:only-of-type {\n",
              "        vertical-align: middle;\n",
              "    }\n",
              "\n",
              "    .dataframe tbody tr th {\n",
              "        vertical-align: top;\n",
              "    }\n",
              "\n",
              "    .dataframe thead th {\n",
              "        text-align: right;\n",
              "    }\n",
              "</style>\n",
              "<table border=\"1\" class=\"dataframe\">\n",
              "  <thead>\n",
              "    <tr style=\"text-align: right;\">\n",
              "      <th></th>\n",
              "      <th>년월</th>\n",
              "      <th>매매가격지수</th>\n",
              "    </tr>\n",
              "  </thead>\n",
              "  <tbody>\n",
              "    <tr>\n",
              "      <th>0</th>\n",
              "      <td>2012-01-01</td>\n",
              "      <td>78.997</td>\n",
              "    </tr>\n",
              "    <tr>\n",
              "      <th>1</th>\n",
              "      <td>2012-02-01</td>\n",
              "      <td>78.797</td>\n",
              "    </tr>\n",
              "    <tr>\n",
              "      <th>2</th>\n",
              "      <td>2012-03-01</td>\n",
              "      <td>78.456</td>\n",
              "    </tr>\n",
              "    <tr>\n",
              "      <th>3</th>\n",
              "      <td>2012-04-01</td>\n",
              "      <td>78.012</td>\n",
              "    </tr>\n",
              "    <tr>\n",
              "      <th>4</th>\n",
              "      <td>2012-05-01</td>\n",
              "      <td>77.588</td>\n",
              "    </tr>\n",
              "    <tr>\n",
              "      <th>...</th>\n",
              "      <td>...</td>\n",
              "      <td>...</td>\n",
              "    </tr>\n",
              "    <tr>\n",
              "      <th>103</th>\n",
              "      <td>2020-08-01</td>\n",
              "      <td>95.849</td>\n",
              "    </tr>\n",
              "    <tr>\n",
              "      <th>104</th>\n",
              "      <td>2020-09-01</td>\n",
              "      <td>96.131</td>\n",
              "    </tr>\n",
              "    <tr>\n",
              "      <th>105</th>\n",
              "      <td>2020-10-01</td>\n",
              "      <td>96.241</td>\n",
              "    </tr>\n",
              "    <tr>\n",
              "      <th>106</th>\n",
              "      <td>2020-11-01</td>\n",
              "      <td>96.354</td>\n",
              "    </tr>\n",
              "    <tr>\n",
              "      <th>107</th>\n",
              "      <td>2020-12-01</td>\n",
              "      <td>96.626</td>\n",
              "    </tr>\n",
              "  </tbody>\n",
              "</table>\n",
              "<p>108 rows × 2 columns</p>\n",
              "</div>"
            ],
            "text/plain": [
              "             년월  매매가격지수\n",
              "0    2012-01-01  78.997\n",
              "1    2012-02-01  78.797\n",
              "2    2012-03-01  78.456\n",
              "3    2012-04-01  78.012\n",
              "4    2012-05-01  77.588\n",
              "..          ...     ...\n",
              "103  2020-08-01  95.849\n",
              "104  2020-09-01  96.131\n",
              "105  2020-10-01  96.241\n",
              "106  2020-11-01  96.354\n",
              "107  2020-12-01  96.626\n",
              "\n",
              "[108 rows x 2 columns]"
            ]
          },
          "metadata": {},
          "execution_count": 4
        }
      ]
    },
    {
      "cell_type": "code",
      "metadata": {
        "colab": {
          "base_uri": "https://localhost:8080/",
          "height": 418
        },
        "id": "--7-1zwFyWj7",
        "outputId": "57f92f16-68df-4894-f8d5-c8670a9c753a"
      },
      "source": [
        "df1['MA3'] = df1['매매가격지수'].rolling(3).mean()\n",
        "df1"
      ],
      "execution_count": null,
      "outputs": [
        {
          "output_type": "execute_result",
          "data": {
            "text/html": [
              "<div>\n",
              "<style scoped>\n",
              "    .dataframe tbody tr th:only-of-type {\n",
              "        vertical-align: middle;\n",
              "    }\n",
              "\n",
              "    .dataframe tbody tr th {\n",
              "        vertical-align: top;\n",
              "    }\n",
              "\n",
              "    .dataframe thead th {\n",
              "        text-align: right;\n",
              "    }\n",
              "</style>\n",
              "<table border=\"1\" class=\"dataframe\">\n",
              "  <thead>\n",
              "    <tr style=\"text-align: right;\">\n",
              "      <th></th>\n",
              "      <th>년월</th>\n",
              "      <th>매매가격지수</th>\n",
              "      <th>MA3</th>\n",
              "    </tr>\n",
              "  </thead>\n",
              "  <tbody>\n",
              "    <tr>\n",
              "      <th>0</th>\n",
              "      <td>2012-01-01</td>\n",
              "      <td>78.997</td>\n",
              "      <td>NaN</td>\n",
              "    </tr>\n",
              "    <tr>\n",
              "      <th>1</th>\n",
              "      <td>2012-02-01</td>\n",
              "      <td>78.797</td>\n",
              "      <td>NaN</td>\n",
              "    </tr>\n",
              "    <tr>\n",
              "      <th>2</th>\n",
              "      <td>2012-03-01</td>\n",
              "      <td>78.456</td>\n",
              "      <td>78.750000</td>\n",
              "    </tr>\n",
              "    <tr>\n",
              "      <th>3</th>\n",
              "      <td>2012-04-01</td>\n",
              "      <td>78.012</td>\n",
              "      <td>78.421667</td>\n",
              "    </tr>\n",
              "    <tr>\n",
              "      <th>4</th>\n",
              "      <td>2012-05-01</td>\n",
              "      <td>77.588</td>\n",
              "      <td>78.018667</td>\n",
              "    </tr>\n",
              "    <tr>\n",
              "      <th>...</th>\n",
              "      <td>...</td>\n",
              "      <td>...</td>\n",
              "      <td>...</td>\n",
              "    </tr>\n",
              "    <tr>\n",
              "      <th>103</th>\n",
              "      <td>2020-08-01</td>\n",
              "      <td>95.849</td>\n",
              "      <td>95.149000</td>\n",
              "    </tr>\n",
              "    <tr>\n",
              "      <th>104</th>\n",
              "      <td>2020-09-01</td>\n",
              "      <td>96.131</td>\n",
              "      <td>95.769333</td>\n",
              "    </tr>\n",
              "    <tr>\n",
              "      <th>105</th>\n",
              "      <td>2020-10-01</td>\n",
              "      <td>96.241</td>\n",
              "      <td>96.073667</td>\n",
              "    </tr>\n",
              "    <tr>\n",
              "      <th>106</th>\n",
              "      <td>2020-11-01</td>\n",
              "      <td>96.354</td>\n",
              "      <td>96.242000</td>\n",
              "    </tr>\n",
              "    <tr>\n",
              "      <th>107</th>\n",
              "      <td>2020-12-01</td>\n",
              "      <td>96.626</td>\n",
              "      <td>96.407000</td>\n",
              "    </tr>\n",
              "  </tbody>\n",
              "</table>\n",
              "<p>108 rows × 3 columns</p>\n",
              "</div>"
            ],
            "text/plain": [
              "             년월  매매가격지수        MA3\n",
              "0    2012-01-01  78.997        NaN\n",
              "1    2012-02-01  78.797        NaN\n",
              "2    2012-03-01  78.456  78.750000\n",
              "3    2012-04-01  78.012  78.421667\n",
              "4    2012-05-01  77.588  78.018667\n",
              "..          ...     ...        ...\n",
              "103  2020-08-01  95.849  95.149000\n",
              "104  2020-09-01  96.131  95.769333\n",
              "105  2020-10-01  96.241  96.073667\n",
              "106  2020-11-01  96.354  96.242000\n",
              "107  2020-12-01  96.626  96.407000\n",
              "\n",
              "[108 rows x 3 columns]"
            ]
          },
          "metadata": {},
          "execution_count": 5
        }
      ]
    },
    {
      "cell_type": "code",
      "metadata": {
        "colab": {
          "base_uri": "https://localhost:8080/",
          "height": 265
        },
        "id": "SnV2snF6yWmz",
        "outputId": "4f6923a4-40ef-4c5e-f99d-265cf2e3bace"
      },
      "source": [
        "df1['MA6'] = df1['매매가격지수'].rolling(6).mean()\n",
        "df1[:7]"
      ],
      "execution_count": null,
      "outputs": [
        {
          "output_type": "execute_result",
          "data": {
            "text/html": [
              "<div>\n",
              "<style scoped>\n",
              "    .dataframe tbody tr th:only-of-type {\n",
              "        vertical-align: middle;\n",
              "    }\n",
              "\n",
              "    .dataframe tbody tr th {\n",
              "        vertical-align: top;\n",
              "    }\n",
              "\n",
              "    .dataframe thead th {\n",
              "        text-align: right;\n",
              "    }\n",
              "</style>\n",
              "<table border=\"1\" class=\"dataframe\">\n",
              "  <thead>\n",
              "    <tr style=\"text-align: right;\">\n",
              "      <th></th>\n",
              "      <th>년월</th>\n",
              "      <th>매매가격지수</th>\n",
              "      <th>MA3</th>\n",
              "      <th>MA6</th>\n",
              "    </tr>\n",
              "  </thead>\n",
              "  <tbody>\n",
              "    <tr>\n",
              "      <th>0</th>\n",
              "      <td>2012-01-01</td>\n",
              "      <td>78.997</td>\n",
              "      <td>NaN</td>\n",
              "      <td>NaN</td>\n",
              "    </tr>\n",
              "    <tr>\n",
              "      <th>1</th>\n",
              "      <td>2012-02-01</td>\n",
              "      <td>78.797</td>\n",
              "      <td>NaN</td>\n",
              "      <td>NaN</td>\n",
              "    </tr>\n",
              "    <tr>\n",
              "      <th>2</th>\n",
              "      <td>2012-03-01</td>\n",
              "      <td>78.456</td>\n",
              "      <td>78.750000</td>\n",
              "      <td>NaN</td>\n",
              "    </tr>\n",
              "    <tr>\n",
              "      <th>3</th>\n",
              "      <td>2012-04-01</td>\n",
              "      <td>78.012</td>\n",
              "      <td>78.421667</td>\n",
              "      <td>NaN</td>\n",
              "    </tr>\n",
              "    <tr>\n",
              "      <th>4</th>\n",
              "      <td>2012-05-01</td>\n",
              "      <td>77.588</td>\n",
              "      <td>78.018667</td>\n",
              "      <td>NaN</td>\n",
              "    </tr>\n",
              "    <tr>\n",
              "      <th>5</th>\n",
              "      <td>2012-06-01</td>\n",
              "      <td>76.976</td>\n",
              "      <td>77.525333</td>\n",
              "      <td>78.137667</td>\n",
              "    </tr>\n",
              "    <tr>\n",
              "      <th>6</th>\n",
              "      <td>2012-07-01</td>\n",
              "      <td>76.456</td>\n",
              "      <td>77.006667</td>\n",
              "      <td>77.714167</td>\n",
              "    </tr>\n",
              "  </tbody>\n",
              "</table>\n",
              "</div>"
            ],
            "text/plain": [
              "           년월  매매가격지수        MA3        MA6\n",
              "0  2012-01-01  78.997        NaN        NaN\n",
              "1  2012-02-01  78.797        NaN        NaN\n",
              "2  2012-03-01  78.456  78.750000        NaN\n",
              "3  2012-04-01  78.012  78.421667        NaN\n",
              "4  2012-05-01  77.588  78.018667        NaN\n",
              "5  2012-06-01  76.976  77.525333  78.137667\n",
              "6  2012-07-01  76.456  77.006667  77.714167"
            ]
          },
          "metadata": {},
          "execution_count": 6
        }
      ]
    },
    {
      "cell_type": "code",
      "metadata": {
        "colab": {
          "base_uri": "https://localhost:8080/",
          "height": 418
        },
        "id": "yIo6MTgcyWpJ",
        "outputId": "4bbe430b-7259-4f4a-cd4c-b40db7be0b9e"
      },
      "source": [
        "df1['코스피지수'] = df['코스피지수']\n",
        "df1"
      ],
      "execution_count": null,
      "outputs": [
        {
          "output_type": "execute_result",
          "data": {
            "text/html": [
              "<div>\n",
              "<style scoped>\n",
              "    .dataframe tbody tr th:only-of-type {\n",
              "        vertical-align: middle;\n",
              "    }\n",
              "\n",
              "    .dataframe tbody tr th {\n",
              "        vertical-align: top;\n",
              "    }\n",
              "\n",
              "    .dataframe thead th {\n",
              "        text-align: right;\n",
              "    }\n",
              "</style>\n",
              "<table border=\"1\" class=\"dataframe\">\n",
              "  <thead>\n",
              "    <tr style=\"text-align: right;\">\n",
              "      <th></th>\n",
              "      <th>년월</th>\n",
              "      <th>매매가격지수</th>\n",
              "      <th>MA3</th>\n",
              "      <th>MA6</th>\n",
              "      <th>코스피지수</th>\n",
              "    </tr>\n",
              "  </thead>\n",
              "  <tbody>\n",
              "    <tr>\n",
              "      <th>0</th>\n",
              "      <td>2012-01-01</td>\n",
              "      <td>78.997</td>\n",
              "      <td>NaN</td>\n",
              "      <td>NaN</td>\n",
              "      <td>1891.01</td>\n",
              "    </tr>\n",
              "    <tr>\n",
              "      <th>1</th>\n",
              "      <td>2012-02-01</td>\n",
              "      <td>78.797</td>\n",
              "      <td>NaN</td>\n",
              "      <td>NaN</td>\n",
              "      <td>2003.23</td>\n",
              "    </tr>\n",
              "    <tr>\n",
              "      <th>2</th>\n",
              "      <td>2012-03-01</td>\n",
              "      <td>78.456</td>\n",
              "      <td>78.750000</td>\n",
              "      <td>NaN</td>\n",
              "      <td>2023.41</td>\n",
              "    </tr>\n",
              "    <tr>\n",
              "      <th>3</th>\n",
              "      <td>2012-04-01</td>\n",
              "      <td>78.012</td>\n",
              "      <td>78.421667</td>\n",
              "      <td>NaN</td>\n",
              "      <td>1995.92</td>\n",
              "    </tr>\n",
              "    <tr>\n",
              "      <th>4</th>\n",
              "      <td>2012-05-01</td>\n",
              "      <td>77.588</td>\n",
              "      <td>78.018667</td>\n",
              "      <td>NaN</td>\n",
              "      <td>1886.35</td>\n",
              "    </tr>\n",
              "    <tr>\n",
              "      <th>...</th>\n",
              "      <td>...</td>\n",
              "      <td>...</td>\n",
              "      <td>...</td>\n",
              "      <td>...</td>\n",
              "      <td>...</td>\n",
              "    </tr>\n",
              "    <tr>\n",
              "      <th>103</th>\n",
              "      <td>2020-08-01</td>\n",
              "      <td>95.849</td>\n",
              "      <td>95.149000</td>\n",
              "      <td>94.726333</td>\n",
              "      <td>2349.87</td>\n",
              "    </tr>\n",
              "    <tr>\n",
              "      <th>104</th>\n",
              "      <td>2020-09-01</td>\n",
              "      <td>96.131</td>\n",
              "      <td>95.769333</td>\n",
              "      <td>95.010000</td>\n",
              "      <td>2371.52</td>\n",
              "    </tr>\n",
              "    <tr>\n",
              "      <th>105</th>\n",
              "      <td>2020-10-01</td>\n",
              "      <td>96.241</td>\n",
              "      <td>96.073667</td>\n",
              "      <td>95.327333</td>\n",
              "      <td>2357.82</td>\n",
              "    </tr>\n",
              "    <tr>\n",
              "      <th>106</th>\n",
              "      <td>2020-11-01</td>\n",
              "      <td>96.354</td>\n",
              "      <td>96.242000</td>\n",
              "      <td>95.695500</td>\n",
              "      <td>2504.18</td>\n",
              "    </tr>\n",
              "    <tr>\n",
              "      <th>107</th>\n",
              "      <td>2020-12-01</td>\n",
              "      <td>96.626</td>\n",
              "      <td>96.407000</td>\n",
              "      <td>96.088167</td>\n",
              "      <td>2755.77</td>\n",
              "    </tr>\n",
              "  </tbody>\n",
              "</table>\n",
              "<p>108 rows × 5 columns</p>\n",
              "</div>"
            ],
            "text/plain": [
              "             년월  매매가격지수        MA3        MA6    코스피지수\n",
              "0    2012-01-01  78.997        NaN        NaN  1891.01\n",
              "1    2012-02-01  78.797        NaN        NaN  2003.23\n",
              "2    2012-03-01  78.456  78.750000        NaN  2023.41\n",
              "3    2012-04-01  78.012  78.421667        NaN  1995.92\n",
              "4    2012-05-01  77.588  78.018667        NaN  1886.35\n",
              "..          ...     ...        ...        ...      ...\n",
              "103  2020-08-01  95.849  95.149000  94.726333  2349.87\n",
              "104  2020-09-01  96.131  95.769333  95.010000  2371.52\n",
              "105  2020-10-01  96.241  96.073667  95.327333  2357.82\n",
              "106  2020-11-01  96.354  96.242000  95.695500  2504.18\n",
              "107  2020-12-01  96.626  96.407000  96.088167  2755.77\n",
              "\n",
              "[108 rows x 5 columns]"
            ]
          },
          "metadata": {},
          "execution_count": 7
        }
      ]
    },
    {
      "cell_type": "code",
      "metadata": {
        "colab": {
          "base_uri": "https://localhost:8080/",
          "height": 418
        },
        "id": "ftwgC-n1yWrv",
        "outputId": "c8a7dbba-d80d-4bc8-d53e-29c14f58e456"
      },
      "source": [
        "df1 = df1.drop(df1.index[:5])\n",
        "df1"
      ],
      "execution_count": null,
      "outputs": [
        {
          "output_type": "execute_result",
          "data": {
            "text/html": [
              "<div>\n",
              "<style scoped>\n",
              "    .dataframe tbody tr th:only-of-type {\n",
              "        vertical-align: middle;\n",
              "    }\n",
              "\n",
              "    .dataframe tbody tr th {\n",
              "        vertical-align: top;\n",
              "    }\n",
              "\n",
              "    .dataframe thead th {\n",
              "        text-align: right;\n",
              "    }\n",
              "</style>\n",
              "<table border=\"1\" class=\"dataframe\">\n",
              "  <thead>\n",
              "    <tr style=\"text-align: right;\">\n",
              "      <th></th>\n",
              "      <th>년월</th>\n",
              "      <th>매매가격지수</th>\n",
              "      <th>MA3</th>\n",
              "      <th>MA6</th>\n",
              "      <th>코스피지수</th>\n",
              "    </tr>\n",
              "  </thead>\n",
              "  <tbody>\n",
              "    <tr>\n",
              "      <th>5</th>\n",
              "      <td>2012-06-01</td>\n",
              "      <td>76.976</td>\n",
              "      <td>77.525333</td>\n",
              "      <td>78.137667</td>\n",
              "      <td>1848.60</td>\n",
              "    </tr>\n",
              "    <tr>\n",
              "      <th>6</th>\n",
              "      <td>2012-07-01</td>\n",
              "      <td>76.456</td>\n",
              "      <td>77.006667</td>\n",
              "      <td>77.714167</td>\n",
              "      <td>1826.75</td>\n",
              "    </tr>\n",
              "    <tr>\n",
              "      <th>7</th>\n",
              "      <td>2012-08-01</td>\n",
              "      <td>75.770</td>\n",
              "      <td>76.400667</td>\n",
              "      <td>77.209667</td>\n",
              "      <td>1918.91</td>\n",
              "    </tr>\n",
              "    <tr>\n",
              "      <th>8</th>\n",
              "      <td>2012-09-01</td>\n",
              "      <td>75.264</td>\n",
              "      <td>75.830000</td>\n",
              "      <td>76.677667</td>\n",
              "      <td>1961.29</td>\n",
              "    </tr>\n",
              "    <tr>\n",
              "      <th>9</th>\n",
              "      <td>2012-10-01</td>\n",
              "      <td>74.797</td>\n",
              "      <td>75.277000</td>\n",
              "      <td>76.141833</td>\n",
              "      <td>1942.19</td>\n",
              "    </tr>\n",
              "    <tr>\n",
              "      <th>...</th>\n",
              "      <td>...</td>\n",
              "      <td>...</td>\n",
              "      <td>...</td>\n",
              "      <td>...</td>\n",
              "      <td>...</td>\n",
              "    </tr>\n",
              "    <tr>\n",
              "      <th>103</th>\n",
              "      <td>2020-08-01</td>\n",
              "      <td>95.849</td>\n",
              "      <td>95.149000</td>\n",
              "      <td>94.726333</td>\n",
              "      <td>2349.87</td>\n",
              "    </tr>\n",
              "    <tr>\n",
              "      <th>104</th>\n",
              "      <td>2020-09-01</td>\n",
              "      <td>96.131</td>\n",
              "      <td>95.769333</td>\n",
              "      <td>95.010000</td>\n",
              "      <td>2371.52</td>\n",
              "    </tr>\n",
              "    <tr>\n",
              "      <th>105</th>\n",
              "      <td>2020-10-01</td>\n",
              "      <td>96.241</td>\n",
              "      <td>96.073667</td>\n",
              "      <td>95.327333</td>\n",
              "      <td>2357.82</td>\n",
              "    </tr>\n",
              "    <tr>\n",
              "      <th>106</th>\n",
              "      <td>2020-11-01</td>\n",
              "      <td>96.354</td>\n",
              "      <td>96.242000</td>\n",
              "      <td>95.695500</td>\n",
              "      <td>2504.18</td>\n",
              "    </tr>\n",
              "    <tr>\n",
              "      <th>107</th>\n",
              "      <td>2020-12-01</td>\n",
              "      <td>96.626</td>\n",
              "      <td>96.407000</td>\n",
              "      <td>96.088167</td>\n",
              "      <td>2755.77</td>\n",
              "    </tr>\n",
              "  </tbody>\n",
              "</table>\n",
              "<p>103 rows × 5 columns</p>\n",
              "</div>"
            ],
            "text/plain": [
              "             년월  매매가격지수        MA3        MA6    코스피지수\n",
              "5    2012-06-01  76.976  77.525333  78.137667  1848.60\n",
              "6    2012-07-01  76.456  77.006667  77.714167  1826.75\n",
              "7    2012-08-01  75.770  76.400667  77.209667  1918.91\n",
              "8    2012-09-01  75.264  75.830000  76.677667  1961.29\n",
              "9    2012-10-01  74.797  75.277000  76.141833  1942.19\n",
              "..          ...     ...        ...        ...      ...\n",
              "103  2020-08-01  95.849  95.149000  94.726333  2349.87\n",
              "104  2020-09-01  96.131  95.769333  95.010000  2371.52\n",
              "105  2020-10-01  96.241  96.073667  95.327333  2357.82\n",
              "106  2020-11-01  96.354  96.242000  95.695500  2504.18\n",
              "107  2020-12-01  96.626  96.407000  96.088167  2755.77\n",
              "\n",
              "[103 rows x 5 columns]"
            ]
          },
          "metadata": {},
          "execution_count": 8
        }
      ]
    },
    {
      "cell_type": "code",
      "metadata": {
        "colab": {
          "base_uri": "https://localhost:8080/",
          "height": 286
        },
        "id": "lT2TWe1m7B67",
        "outputId": "74b82347-eee7-4f32-91fa-9dcaf6a56318"
      },
      "source": [
        "df1['코스피지수'].plot()\n",
        "plt.ylabel(\"INDEX\")\n",
        "plt.show()"
      ],
      "execution_count": null,
      "outputs": [
        {
          "output_type": "stream",
          "name": "stderr",
          "text": [
            "findfont: Font family ['NanumBarunGothic'] not found. Falling back to DejaVu Sans.\n"
          ]
        },
        {
          "output_type": "display_data",
          "data": {
            "image/png": "[encoded data removed]",
            "text/plain": [
              "<Figure size 432x288 with 1 Axes>"
            ]
          },
          "metadata": {
            "needs_background": "light"
          }
        }
      ]
    },
    {
      "cell_type": "code",
      "metadata": {
        "colab": {
          "base_uri": "https://localhost:8080/",
          "height": 265
        },
        "id": "37h1EiUd5v62",
        "outputId": "1e51e2dd-16e0-403c-862a-b9882008a41e"
      },
      "source": [
        "df1[['MA3','MA6']].plot()\n",
        "plt.ylabel(\"INDEX\")\n",
        "plt.show()"
      ],
      "execution_count": null,
      "outputs": [
        {
          "output_type": "display_data",
          "data": {
            "image/png": "[encoded data removed]",
            "text/plain": [
              "<Figure size 432x288 with 1 Axes>"
            ]
          },
          "metadata": {
            "needs_background": "light"
          }
        }
      ]
    },
    {
      "cell_type": "code",
      "metadata": {
        "colab": {
          "base_uri": "https://localhost:8080/"
        },
        "id": "BubiT0k9zl8g",
        "outputId": "c89ba561-3dfe-45c2-fc27-f7ccd4a27c7b"
      },
      "source": [
        "df1.info()"
      ],
      "execution_count": null,
      "outputs": [
        {
          "output_type": "stream",
          "name": "stdout",
          "text": [
            "<class 'pandas.core.frame.DataFrame'>\n",
            "Int64Index: 103 entries, 5 to 107\n",
            "Data columns (total 5 columns):\n",
            " #   Column  Non-Null Count  Dtype  \n",
            "---  ------  --------------  -----  \n",
            " 0   년월      103 non-null    object \n",
            " 1   매매가격지수  103 non-null    float64\n",
            " 2   MA3     103 non-null    float64\n",
            " 3   MA6     103 non-null    float64\n",
            " 4   코스피지수   103 non-null    float64\n",
            "dtypes: float64(4), object(1)\n",
            "memory usage: 4.8+ KB\n"
          ]
        }
      ]
    },
    {
      "cell_type": "code",
      "metadata": {
        "id": "MijqUiStQSbE"
      },
      "source": [
        "from sklearn.preprocessing import StandardScaler, MinMaxScaler, MaxAbsScaler, RobustScaler\n",
        "\n",
        "# feature standardization  (numerical_columns except dummy var.-\"CHAS\")\n",
        "scaler = \t\tMinMaxScaler()  # 최대/최소값이 각각 1, 0이 되도록 스케일링\n",
        "scale_columns = ['매매가격지수','코스피지수', 'MA3', 'MA6']\n",
        "df1[scale_columns] = scaler.fit_transform(df1[scale_columns])"
      ],
      "execution_count": null,
      "outputs": []
    },
    {
      "cell_type": "code",
      "metadata": {
        "id": "UVrVuPS4Q918"
      },
      "source": [
        "numerical_columns = ['코스피지수', 'MA3', 'MA6']\n",
        "\n",
        "X = df1[numerical_columns]\n",
        "y = df1['매매가격지수']"
      ],
      "execution_count": null,
      "outputs": []
    },
    {
      "cell_type": "code",
      "metadata": {
        "colab": {
          "base_uri": "https://localhost:8080/",
          "height": 418
        },
        "id": "LazWW2GWRJHj",
        "outputId": "54ef869b-7e97-41ed-d281-4066e0556fe2"
      },
      "source": [
        "df1"
      ],
      "execution_count": null,
      "outputs": [
        {
          "output_type": "execute_result",
          "data": {
            "text/html": [
              "<div>\n",
              "<style scoped>\n",
              "    .dataframe tbody tr th:only-of-type {\n",
              "        vertical-align: middle;\n",
              "    }\n",
              "\n",
              "    .dataframe tbody tr th {\n",
              "        vertical-align: top;\n",
              "    }\n",
              "\n",
              "    .dataframe thead th {\n",
              "        text-align: right;\n",
              "    }\n",
              "</style>\n",
              "<table border=\"1\" class=\"dataframe\">\n",
              "  <thead>\n",
              "    <tr style=\"text-align: right;\">\n",
              "      <th></th>\n",
              "      <th>년월</th>\n",
              "      <th>매매가격지수</th>\n",
              "      <th>MA3</th>\n",
              "      <th>MA6</th>\n",
              "      <th>코스피지수</th>\n",
              "    </tr>\n",
              "  </thead>\n",
              "  <tbody>\n",
              "    <tr>\n",
              "      <th>5</th>\n",
              "      <td>2012-06-01</td>\n",
              "      <td>0.186066</td>\n",
              "      <td>0.206175</td>\n",
              "      <td>0.229090</td>\n",
              "      <td>0.063827</td>\n",
              "    </tr>\n",
              "    <tr>\n",
              "      <th>6</th>\n",
              "      <td>2012-07-01</td>\n",
              "      <td>0.164527</td>\n",
              "      <td>0.184369</td>\n",
              "      <td>0.210903</td>\n",
              "      <td>0.041279</td>\n",
              "    </tr>\n",
              "    <tr>\n",
              "      <th>7</th>\n",
              "      <td>2012-08-01</td>\n",
              "      <td>0.136111</td>\n",
              "      <td>0.158891</td>\n",
              "      <td>0.189236</td>\n",
              "      <td>0.136385</td>\n",
              "    </tr>\n",
              "    <tr>\n",
              "      <th>8</th>\n",
              "      <td>2012-09-01</td>\n",
              "      <td>0.115152</td>\n",
              "      <td>0.134899</td>\n",
              "      <td>0.166389</td>\n",
              "      <td>0.180120</td>\n",
              "    </tr>\n",
              "    <tr>\n",
              "      <th>9</th>\n",
              "      <td>2012-10-01</td>\n",
              "      <td>0.095808</td>\n",
              "      <td>0.111650</td>\n",
              "      <td>0.143377</td>\n",
              "      <td>0.160409</td>\n",
              "    </tr>\n",
              "    <tr>\n",
              "      <th>...</th>\n",
              "      <td>...</td>\n",
              "      <td>...</td>\n",
              "      <td>...</td>\n",
              "      <td>...</td>\n",
              "      <td>...</td>\n",
              "    </tr>\n",
              "    <tr>\n",
              "      <th>103</th>\n",
              "      <td>2020-08-01</td>\n",
              "      <td>0.967815</td>\n",
              "      <td>0.947111</td>\n",
              "      <td>0.941514</td>\n",
              "      <td>0.581123</td>\n",
              "    </tr>\n",
              "    <tr>\n",
              "      <th>104</th>\n",
              "      <td>2020-09-01</td>\n",
              "      <td>0.979496</td>\n",
              "      <td>0.973191</td>\n",
              "      <td>0.953697</td>\n",
              "      <td>0.603465</td>\n",
              "    </tr>\n",
              "    <tr>\n",
              "      <th>105</th>\n",
              "      <td>2020-10-01</td>\n",
              "      <td>0.984053</td>\n",
              "      <td>0.985986</td>\n",
              "      <td>0.967325</td>\n",
              "      <td>0.589327</td>\n",
              "    </tr>\n",
              "    <tr>\n",
              "      <th>106</th>\n",
              "      <td>2020-11-01</td>\n",
              "      <td>0.988733</td>\n",
              "      <td>0.993063</td>\n",
              "      <td>0.983136</td>\n",
              "      <td>0.740367</td>\n",
              "    </tr>\n",
              "    <tr>\n",
              "      <th>107</th>\n",
              "      <td>2020-12-01</td>\n",
              "      <td>1.000000</td>\n",
              "      <td>1.000000</td>\n",
              "      <td>1.000000</td>\n",
              "      <td>1.000000</td>\n",
              "    </tr>\n",
              "  </tbody>\n",
              "</table>\n",
              "<p>103 rows × 5 columns</p>\n",
              "</div>"
            ],
            "text/plain": [
              "             년월    매매가격지수       MA3       MA6     코스피지수\n",
              "5    2012-06-01  0.186066  0.206175  0.229090  0.063827\n",
              "6    2012-07-01  0.164527  0.184369  0.210903  0.041279\n",
              "7    2012-08-01  0.136111  0.158891  0.189236  0.136385\n",
              "8    2012-09-01  0.115152  0.134899  0.166389  0.180120\n",
              "9    2012-10-01  0.095808  0.111650  0.143377  0.160409\n",
              "..          ...       ...       ...       ...       ...\n",
              "103  2020-08-01  0.967815  0.947111  0.941514  0.581123\n",
              "104  2020-09-01  0.979496  0.973191  0.953697  0.603465\n",
              "105  2020-10-01  0.984053  0.985986  0.967325  0.589327\n",
              "106  2020-11-01  0.988733  0.993063  0.983136  0.740367\n",
              "107  2020-12-01  1.000000  1.000000  1.000000  1.000000\n",
              "\n",
              "[103 rows x 5 columns]"
            ]
          },
          "metadata": {},
          "execution_count": 14
        }
      ]
    },
    {
      "cell_type": "code",
      "metadata": {
        "colab": {
          "base_uri": "https://localhost:8080/",
          "height": 283
        },
        "id": "JrX9cXEOfgPW",
        "outputId": "a1bf5027-7952-463c-dac5-6834188fe41c"
      },
      "source": [
        "df1.plot()"
      ],
      "execution_count": null,
      "outputs": [
        {
          "output_type": "execute_result",
          "data": {
            "text/plain": [
              "<matplotlib.axes._subplots.AxesSubplot at 0x7f8a64389150>"
            ]
          },
          "metadata": {},
          "execution_count": 15
        },
        {
          "output_type": "display_data",
          "data": {
            "image/png": "[encoded data removed]",
            "text/plain": [
              "<Figure size 432x288 with 1 Axes>"
            ]
          },
          "metadata": {
            "needs_background": "light"
          }
        }
      ]
    },
    {
      "cell_type": "code",
      "metadata": {
        "colab": {
          "base_uri": "https://localhost:8080/",
          "height": 418
        },
        "id": "3638LQDkzmBp",
        "outputId": "8dcf9cec-87ad-4e78-b65c-9f184af62d3f"
      },
      "source": [
        "X"
      ],
      "execution_count": null,
      "outputs": [
        {
          "output_type": "execute_result",
          "data": {
            "text/html": [
              "<div>\n",
              "<style scoped>\n",
              "    .dataframe tbody tr th:only-of-type {\n",
              "        vertical-align: middle;\n",
              "    }\n",
              "\n",
              "    .dataframe tbody tr th {\n",
              "        vertical-align: top;\n",
              "    }\n",
              "\n",
              "    .dataframe thead th {\n",
              "        text-align: right;\n",
              "    }\n",
              "</style>\n",
              "<table border=\"1\" class=\"dataframe\">\n",
              "  <thead>\n",
              "    <tr style=\"text-align: right;\">\n",
              "      <th></th>\n",
              "      <th>코스피지수</th>\n",
              "      <th>MA3</th>\n",
              "      <th>MA6</th>\n",
              "    </tr>\n",
              "  </thead>\n",
              "  <tbody>\n",
              "    <tr>\n",
              "      <th>5</th>\n",
              "      <td>0.063827</td>\n",
              "      <td>0.206175</td>\n",
              "      <td>0.229090</td>\n",
              "    </tr>\n",
              "    <tr>\n",
              "      <th>6</th>\n",
              "      <td>0.041279</td>\n",
              "      <td>0.184369</td>\n",
              "      <td>0.210903</td>\n",
              "    </tr>\n",
              "    <tr>\n",
              "      <th>7</th>\n",
              "      <td>0.136385</td>\n",
              "      <td>0.158891</td>\n",
              "      <td>0.189236</td>\n",
              "    </tr>\n",
              "    <tr>\n",
              "      <th>8</th>\n",
              "      <td>0.180120</td>\n",
              "      <td>0.134899</td>\n",
              "      <td>0.166389</td>\n",
              "    </tr>\n",
              "    <tr>\n",
              "      <th>9</th>\n",
              "      <td>0.160409</td>\n",
              "      <td>0.111650</td>\n",
              "      <td>0.143377</td>\n",
              "    </tr>\n",
              "    <tr>\n",
              "      <th>...</th>\n",
              "      <td>...</td>\n",
              "      <td>...</td>\n",
              "      <td>...</td>\n",
              "    </tr>\n",
              "    <tr>\n",
              "      <th>103</th>\n",
              "      <td>0.581123</td>\n",
              "      <td>0.947111</td>\n",
              "      <td>0.941514</td>\n",
              "    </tr>\n",
              "    <tr>\n",
              "      <th>104</th>\n",
              "      <td>0.603465</td>\n",
              "      <td>0.973191</td>\n",
              "      <td>0.953697</td>\n",
              "    </tr>\n",
              "    <tr>\n",
              "      <th>105</th>\n",
              "      <td>0.589327</td>\n",
              "      <td>0.985986</td>\n",
              "      <td>0.967325</td>\n",
              "    </tr>\n",
              "    <tr>\n",
              "      <th>106</th>\n",
              "      <td>0.740367</td>\n",
              "      <td>0.993063</td>\n",
              "      <td>0.983136</td>\n",
              "    </tr>\n",
              "    <tr>\n",
              "      <th>107</th>\n",
              "      <td>1.000000</td>\n",
              "      <td>1.000000</td>\n",
              "      <td>1.000000</td>\n",
              "    </tr>\n",
              "  </tbody>\n",
              "</table>\n",
              "<p>103 rows × 3 columns</p>\n",
              "</div>"
            ],
            "text/plain": [
              "        코스피지수       MA3       MA6\n",
              "5    0.063827  0.206175  0.229090\n",
              "6    0.041279  0.184369  0.210903\n",
              "7    0.136385  0.158891  0.189236\n",
              "8    0.180120  0.134899  0.166389\n",
              "9    0.160409  0.111650  0.143377\n",
              "..        ...       ...       ...\n",
              "103  0.581123  0.947111  0.941514\n",
              "104  0.603465  0.973191  0.953697\n",
              "105  0.589327  0.985986  0.967325\n",
              "106  0.740367  0.993063  0.983136\n",
              "107  1.000000  1.000000  1.000000\n",
              "\n",
              "[103 rows x 3 columns]"
            ]
          },
          "metadata": {},
          "execution_count": 16
        }
      ]
    },
    {
      "cell_type": "code",
      "metadata": {
        "colab": {
          "base_uri": "https://localhost:8080/"
        },
        "id": "n3DcrqWAzmEW",
        "outputId": "95e4de49-0ba6-4917-c92c-df3ba06ae727"
      },
      "source": [
        "y.head()"
      ],
      "execution_count": null,
      "outputs": [
        {
          "output_type": "execute_result",
          "data": {
            "text/plain": [
              "5    0.186066\n",
              "6    0.164527\n",
              "7    0.136111\n",
              "8    0.115152\n",
              "9    0.095808\n",
              "Name: 매매가격지수, dtype: float64"
            ]
          },
          "metadata": {},
          "execution_count": 17
        }
      ]
    },
    {
      "cell_type": "markdown",
      "metadata": {
        "id": "joRQu6BrayBl"
      },
      "source": [
        "# 상관관계 분석"
      ]
    },
    {
      "cell_type": "code",
      "metadata": {
        "colab": {
          "base_uri": "https://localhost:8080/",
          "height": 172
        },
        "id": "lQUX7oCCQc9V",
        "outputId": "66d367c3-78ff-497d-fa9b-5e1c33b28ba3"
      },
      "source": [
        "# Person 상관계수\n",
        "cols = ['매매가격지수', '코스피지수', 'MA3', 'MA6']\n",
        "\n",
        "corr = df1[cols].corr(method = 'pearson')\n",
        "corr"
      ],
      "execution_count": null,
      "outputs": [
        {
          "output_type": "execute_result",
          "data": {
            "text/html": [
              "<div>\n",
              "<style scoped>\n",
              "    .dataframe tbody tr th:only-of-type {\n",
              "        vertical-align: middle;\n",
              "    }\n",
              "\n",
              "    .dataframe tbody tr th {\n",
              "        vertical-align: top;\n",
              "    }\n",
              "\n",
              "    .dataframe thead th {\n",
              "        text-align: right;\n",
              "    }\n",
              "</style>\n",
              "<table border=\"1\" class=\"dataframe\">\n",
              "  <thead>\n",
              "    <tr style=\"text-align: right;\">\n",
              "      <th></th>\n",
              "      <th>매매가격지수</th>\n",
              "      <th>코스피지수</th>\n",
              "      <th>MA3</th>\n",
              "      <th>MA6</th>\n",
              "    </tr>\n",
              "  </thead>\n",
              "  <tbody>\n",
              "    <tr>\n",
              "      <th>매매가격지수</th>\n",
              "      <td>1.000000</td>\n",
              "      <td>0.575600</td>\n",
              "      <td>0.998969</td>\n",
              "      <td>0.995167</td>\n",
              "    </tr>\n",
              "    <tr>\n",
              "      <th>코스피지수</th>\n",
              "      <td>0.575600</td>\n",
              "      <td>1.000000</td>\n",
              "      <td>0.560750</td>\n",
              "      <td>0.544064</td>\n",
              "    </tr>\n",
              "    <tr>\n",
              "      <th>MA3</th>\n",
              "      <td>0.998969</td>\n",
              "      <td>0.560750</td>\n",
              "      <td>1.000000</td>\n",
              "      <td>0.998167</td>\n",
              "    </tr>\n",
              "    <tr>\n",
              "      <th>MA6</th>\n",
              "      <td>0.995167</td>\n",
              "      <td>0.544064</td>\n",
              "      <td>0.998167</td>\n",
              "      <td>1.000000</td>\n",
              "    </tr>\n",
              "  </tbody>\n",
              "</table>\n",
              "</div>"
            ],
            "text/plain": [
              "          매매가격지수     코스피지수       MA3       MA6\n",
              "매매가격지수  1.000000  0.575600  0.998969  0.995167\n",
              "코스피지수   0.575600  1.000000  0.560750  0.544064\n",
              "MA3     0.998969  0.560750  1.000000  0.998167\n",
              "MA6     0.995167  0.544064  0.998167  1.000000"
            ]
          },
          "metadata": {},
          "execution_count": 18
        }
      ]
    },
    {
      "cell_type": "markdown",
      "metadata": {
        "id": "x2ZntbCH0S-B"
      },
      "source": [
        "# 데이터셋 분리"
      ]
    },
    {
      "cell_type": "code",
      "metadata": {
        "id": "ZYfvejLzzmG0"
      },
      "source": [
        "train = df1.loc[:89]    # 2012.06 ~ 2019.6\n",
        "test = df1.loc[90:]   # 2019.07 ~ 2020.12"
      ],
      "execution_count": null,
      "outputs": []
    },
    {
      "cell_type": "code",
      "metadata": {
        "colab": {
          "base_uri": "https://localhost:8080/",
          "height": 204
        },
        "id": "PKCbzdELrNwc",
        "outputId": "c9d426a0-f714-4bea-b5e9-54334162a8da"
      },
      "source": [
        "train.head()"
      ],
      "execution_count": null,
      "outputs": [
        {
          "output_type": "execute_result",
          "data": {
            "text/html": [
              "<div>\n",
              "<style scoped>\n",
              "    .dataframe tbody tr th:only-of-type {\n",
              "        vertical-align: middle;\n",
              "    }\n",
              "\n",
              "    .dataframe tbody tr th {\n",
              "        vertical-align: top;\n",
              "    }\n",
              "\n",
              "    .dataframe thead th {\n",
              "        text-align: right;\n",
              "    }\n",
              "</style>\n",
              "<table border=\"1\" class=\"dataframe\">\n",
              "  <thead>\n",
              "    <tr style=\"text-align: right;\">\n",
              "      <th></th>\n",
              "      <th>년월</th>\n",
              "      <th>매매가격지수</th>\n",
              "      <th>MA3</th>\n",
              "      <th>MA6</th>\n",
              "      <th>코스피지수</th>\n",
              "    </tr>\n",
              "  </thead>\n",
              "  <tbody>\n",
              "    <tr>\n",
              "      <th>5</th>\n",
              "      <td>2012-06-01</td>\n",
              "      <td>0.186066</td>\n",
              "      <td>0.206175</td>\n",
              "      <td>0.229090</td>\n",
              "      <td>0.063827</td>\n",
              "    </tr>\n",
              "    <tr>\n",
              "      <th>6</th>\n",
              "      <td>2012-07-01</td>\n",
              "      <td>0.164527</td>\n",
              "      <td>0.184369</td>\n",
              "      <td>0.210903</td>\n",
              "      <td>0.041279</td>\n",
              "    </tr>\n",
              "    <tr>\n",
              "      <th>7</th>\n",
              "      <td>2012-08-01</td>\n",
              "      <td>0.136111</td>\n",
              "      <td>0.158891</td>\n",
              "      <td>0.189236</td>\n",
              "      <td>0.136385</td>\n",
              "    </tr>\n",
              "    <tr>\n",
              "      <th>8</th>\n",
              "      <td>2012-09-01</td>\n",
              "      <td>0.115152</td>\n",
              "      <td>0.134899</td>\n",
              "      <td>0.166389</td>\n",
              "      <td>0.180120</td>\n",
              "    </tr>\n",
              "    <tr>\n",
              "      <th>9</th>\n",
              "      <td>2012-10-01</td>\n",
              "      <td>0.095808</td>\n",
              "      <td>0.111650</td>\n",
              "      <td>0.143377</td>\n",
              "      <td>0.160409</td>\n",
              "    </tr>\n",
              "  </tbody>\n",
              "</table>\n",
              "</div>"
            ],
            "text/plain": [
              "           년월    매매가격지수       MA3       MA6     코스피지수\n",
              "5  2012-06-01  0.186066  0.206175  0.229090  0.063827\n",
              "6  2012-07-01  0.164527  0.184369  0.210903  0.041279\n",
              "7  2012-08-01  0.136111  0.158891  0.189236  0.136385\n",
              "8  2012-09-01  0.115152  0.134899  0.166389  0.180120\n",
              "9  2012-10-01  0.095808  0.111650  0.143377  0.160409"
            ]
          },
          "metadata": {},
          "execution_count": 20
        }
      ]
    },
    {
      "cell_type": "code",
      "metadata": {
        "colab": {
          "base_uri": "https://localhost:8080/",
          "height": 204
        },
        "id": "zrpuQ19mrnQx",
        "outputId": "98cd4e83-4abc-4f34-d774-aa1990c8118e"
      },
      "source": [
        "train.tail()"
      ],
      "execution_count": null,
      "outputs": [
        {
          "output_type": "execute_result",
          "data": {
            "text/html": [
              "<div>\n",
              "<style scoped>\n",
              "    .dataframe tbody tr th:only-of-type {\n",
              "        vertical-align: middle;\n",
              "    }\n",
              "\n",
              "    .dataframe tbody tr th {\n",
              "        vertical-align: top;\n",
              "    }\n",
              "\n",
              "    .dataframe thead th {\n",
              "        text-align: right;\n",
              "    }\n",
              "</style>\n",
              "<table border=\"1\" class=\"dataframe\">\n",
              "  <thead>\n",
              "    <tr style=\"text-align: right;\">\n",
              "      <th></th>\n",
              "      <th>년월</th>\n",
              "      <th>매매가격지수</th>\n",
              "      <th>MA3</th>\n",
              "      <th>MA6</th>\n",
              "      <th>코스피지수</th>\n",
              "    </tr>\n",
              "  </thead>\n",
              "  <tbody>\n",
              "    <tr>\n",
              "      <th>85</th>\n",
              "      <td>2019-02-01</td>\n",
              "      <td>0.810579</td>\n",
              "      <td>0.831803</td>\n",
              "      <td>0.848585</td>\n",
              "      <td>0.436988</td>\n",
              "    </tr>\n",
              "    <tr>\n",
              "      <th>86</th>\n",
              "      <td>2019-03-01</td>\n",
              "      <td>0.795460</td>\n",
              "      <td>0.816598</td>\n",
              "      <td>0.843875</td>\n",
              "      <td>0.387154</td>\n",
              "    </tr>\n",
              "    <tr>\n",
              "      <th>87</th>\n",
              "      <td>2019-04-01</td>\n",
              "      <td>0.782412</td>\n",
              "      <td>0.802304</td>\n",
              "      <td>0.833082</td>\n",
              "      <td>0.438969</td>\n",
              "    </tr>\n",
              "    <tr>\n",
              "      <th>88</th>\n",
              "      <td>2019-05-01</td>\n",
              "      <td>0.774874</td>\n",
              "      <td>0.790224</td>\n",
              "      <td>0.820641</td>\n",
              "      <td>0.309746</td>\n",
              "    </tr>\n",
              "    <tr>\n",
              "      <th>89</th>\n",
              "      <td>2019-06-01</td>\n",
              "      <td>0.771436</td>\n",
              "      <td>0.782096</td>\n",
              "      <td>0.808724</td>\n",
              "      <td>0.328734</td>\n",
              "    </tr>\n",
              "  </tbody>\n",
              "</table>\n",
              "</div>"
            ],
            "text/plain": [
              "            년월    매매가격지수       MA3       MA6     코스피지수\n",
              "85  2019-02-01  0.810579  0.831803  0.848585  0.436988\n",
              "86  2019-03-01  0.795460  0.816598  0.843875  0.387154\n",
              "87  2019-04-01  0.782412  0.802304  0.833082  0.438969\n",
              "88  2019-05-01  0.774874  0.790224  0.820641  0.309746\n",
              "89  2019-06-01  0.771436  0.782096  0.808724  0.328734"
            ]
          },
          "metadata": {},
          "execution_count": 21
        }
      ]
    },
    {
      "cell_type": "code",
      "metadata": {
        "colab": {
          "base_uri": "https://localhost:8080/",
          "height": 204
        },
        "id": "wdmSAn6Br9Cp",
        "outputId": "510d6326-9c4b-4296-dd0f-69eb930b8e82"
      },
      "source": [
        "test.head()"
      ],
      "execution_count": null,
      "outputs": [
        {
          "output_type": "execute_result",
          "data": {
            "text/html": [
              "<div>\n",
              "<style scoped>\n",
              "    .dataframe tbody tr th:only-of-type {\n",
              "        vertical-align: middle;\n",
              "    }\n",
              "\n",
              "    .dataframe tbody tr th {\n",
              "        vertical-align: top;\n",
              "    }\n",
              "\n",
              "    .dataframe thead th {\n",
              "        text-align: right;\n",
              "    }\n",
              "</style>\n",
              "<table border=\"1\" class=\"dataframe\">\n",
              "  <thead>\n",
              "    <tr style=\"text-align: right;\">\n",
              "      <th></th>\n",
              "      <th>년월</th>\n",
              "      <th>매매가격지수</th>\n",
              "      <th>MA3</th>\n",
              "      <th>MA6</th>\n",
              "      <th>코스피지수</th>\n",
              "    </tr>\n",
              "  </thead>\n",
              "  <tbody>\n",
              "    <tr>\n",
              "      <th>90</th>\n",
              "      <td>2019-07-01</td>\n",
              "      <td>0.774128</td>\n",
              "      <td>0.779293</td>\n",
              "      <td>0.799991</td>\n",
              "      <td>0.302089</td>\n",
              "    </tr>\n",
              "    <tr>\n",
              "      <th>91</th>\n",
              "      <td>2019-08-01</td>\n",
              "      <td>0.779471</td>\n",
              "      <td>0.780848</td>\n",
              "      <td>0.794616</td>\n",
              "      <td>0.162525</td>\n",
              "    </tr>\n",
              "    <tr>\n",
              "      <th>92</th>\n",
              "      <td>2019-09-01</td>\n",
              "      <td>0.786430</td>\n",
              "      <td>0.785921</td>\n",
              "      <td>0.793056</td>\n",
              "      <td>0.266723</td>\n",
              "    </tr>\n",
              "    <tr>\n",
              "      <th>93</th>\n",
              "      <td>2019-10-01</td>\n",
              "      <td>0.809129</td>\n",
              "      <td>0.797763</td>\n",
              "      <td>0.797672</td>\n",
              "      <td>0.287920</td>\n",
              "    </tr>\n",
              "    <tr>\n",
              "      <th>94</th>\n",
              "      <td>2019-11-01</td>\n",
              "      <td>0.835473</td>\n",
              "      <td>0.816710</td>\n",
              "      <td>0.808144</td>\n",
              "      <td>0.352975</td>\n",
              "    </tr>\n",
              "  </tbody>\n",
              "</table>\n",
              "</div>"
            ],
            "text/plain": [
              "            년월    매매가격지수       MA3       MA6     코스피지수\n",
              "90  2019-07-01  0.774128  0.779293  0.799991  0.302089\n",
              "91  2019-08-01  0.779471  0.780848  0.794616  0.162525\n",
              "92  2019-09-01  0.786430  0.785921  0.793056  0.266723\n",
              "93  2019-10-01  0.809129  0.797763  0.797672  0.287920\n",
              "94  2019-11-01  0.835473  0.816710  0.808144  0.352975"
            ]
          },
          "metadata": {},
          "execution_count": 22
        }
      ]
    },
    {
      "cell_type": "code",
      "metadata": {
        "colab": {
          "base_uri": "https://localhost:8080/",
          "height": 204
        },
        "id": "mWss87x0sC9l",
        "outputId": "16ef1b40-d84d-4ec2-b723-e86137a6e4ad"
      },
      "source": [
        "test.tail()"
      ],
      "execution_count": null,
      "outputs": [
        {
          "output_type": "execute_result",
          "data": {
            "text/html": [
              "<div>\n",
              "<style scoped>\n",
              "    .dataframe tbody tr th:only-of-type {\n",
              "        vertical-align: middle;\n",
              "    }\n",
              "\n",
              "    .dataframe tbody tr th {\n",
              "        vertical-align: top;\n",
              "    }\n",
              "\n",
              "    .dataframe thead th {\n",
              "        text-align: right;\n",
              "    }\n",
              "</style>\n",
              "<table border=\"1\" class=\"dataframe\">\n",
              "  <thead>\n",
              "    <tr style=\"text-align: right;\">\n",
              "      <th></th>\n",
              "      <th>년월</th>\n",
              "      <th>매매가격지수</th>\n",
              "      <th>MA3</th>\n",
              "      <th>MA6</th>\n",
              "      <th>코스피지수</th>\n",
              "    </tr>\n",
              "  </thead>\n",
              "  <tbody>\n",
              "    <tr>\n",
              "      <th>103</th>\n",
              "      <td>2020-08-01</td>\n",
              "      <td>0.967815</td>\n",
              "      <td>0.947111</td>\n",
              "      <td>0.941514</td>\n",
              "      <td>0.581123</td>\n",
              "    </tr>\n",
              "    <tr>\n",
              "      <th>104</th>\n",
              "      <td>2020-09-01</td>\n",
              "      <td>0.979496</td>\n",
              "      <td>0.973191</td>\n",
              "      <td>0.953697</td>\n",
              "      <td>0.603465</td>\n",
              "    </tr>\n",
              "    <tr>\n",
              "      <th>105</th>\n",
              "      <td>2020-10-01</td>\n",
              "      <td>0.984053</td>\n",
              "      <td>0.985986</td>\n",
              "      <td>0.967325</td>\n",
              "      <td>0.589327</td>\n",
              "    </tr>\n",
              "    <tr>\n",
              "      <th>106</th>\n",
              "      <td>2020-11-01</td>\n",
              "      <td>0.988733</td>\n",
              "      <td>0.993063</td>\n",
              "      <td>0.983136</td>\n",
              "      <td>0.740367</td>\n",
              "    </tr>\n",
              "    <tr>\n",
              "      <th>107</th>\n",
              "      <td>2020-12-01</td>\n",
              "      <td>1.000000</td>\n",
              "      <td>1.000000</td>\n",
              "      <td>1.000000</td>\n",
              "      <td>1.000000</td>\n",
              "    </tr>\n",
              "  </tbody>\n",
              "</table>\n",
              "</div>"
            ],
            "text/plain": [
              "             년월    매매가격지수       MA3       MA6     코스피지수\n",
              "103  2020-08-01  0.967815  0.947111  0.941514  0.581123\n",
              "104  2020-09-01  0.979496  0.973191  0.953697  0.603465\n",
              "105  2020-10-01  0.984053  0.985986  0.967325  0.589327\n",
              "106  2020-11-01  0.988733  0.993063  0.983136  0.740367\n",
              "107  2020-12-01  1.000000  1.000000  1.000000  1.000000"
            ]
          },
          "metadata": {},
          "execution_count": 23
        }
      ]
    },
    {
      "cell_type": "code",
      "metadata": {
        "colab": {
          "base_uri": "https://localhost:8080/"
        },
        "id": "jjXBCWGcsJ04",
        "outputId": "ddb28acf-1601-4fb3-a2e1-ca47e483ce34"
      },
      "source": [
        "X_train = train[['코스피지수','MA3','MA6']]\n",
        "y_train = train[['매매가격지수']]\n",
        "X_test = test[['코스피지수','MA3','MA6']]\n",
        "y_test = test[['매매가격지수']]\n",
        "\n",
        "print(X_train.shape, y_train.shape, X_test.shape, y_test.shape)"
      ],
      "execution_count": null,
      "outputs": [
        {
          "output_type": "stream",
          "name": "stdout",
          "text": [
            "(85, 3) (85, 1) (18, 3) (18, 1)\n"
          ]
        }
      ]
    },
    {
      "cell_type": "markdown",
      "metadata": {
        "id": "JvGKJCIO0nnD"
      },
      "source": [
        "# RandomForest"
      ]
    },
    {
      "cell_type": "code",
      "metadata": {
        "colab": {
          "base_uri": "https://localhost:8080/"
        },
        "id": "plXASRne_Exs",
        "outputId": "0ba0c0d7-0753-4dce-b668-f087f6f5abd2"
      },
      "source": [
        "rf_model = RandomForestRegressor(n_estimators=20,\n",
        "                              max_depth=5,\n",
        "                              n_jobs=-1,\n",
        "                              random_state=5)\n",
        "rf_model.fit(X_train, y_train)"
      ],
      "execution_count": null,
      "outputs": [
        {
          "output_type": "execute_result",
          "data": {
            "text/plain": [
              "RandomForestRegressor(bootstrap=True, ccp_alpha=0.0, criterion='mse',\n",
              "                      max_depth=5, max_features='auto', max_leaf_nodes=None,\n",
              "                      max_samples=None, min_impurity_decrease=0.0,\n",
              "                      min_impurity_split=None, min_samples_leaf=1,\n",
              "                      min_samples_split=2, min_weight_fraction_leaf=0.0,\n",
              "                      n_estimators=20, n_jobs=-1, oob_score=False,\n",
              "                      random_state=5, verbose=0, warm_start=False)"
            ]
          },
          "metadata": {},
          "execution_count": 25
        }
      ]
    },
    {
      "cell_type": "code",
      "metadata": {
        "colab": {
          "base_uri": "https://localhost:8080/"
        },
        "id": "klrcL6H9_0NR",
        "outputId": "2c793e8a-687a-495d-f090-9c8a2f8831bb"
      },
      "source": [
        "y_pred = rf_model.predict(X_test)\n",
        "y_pred"
      ],
      "execution_count": null,
      "outputs": [
        {
          "output_type": "execute_result",
          "data": {
            "text/plain": [
              "array([0.79083157, 0.79666145, 0.79666145, 0.79759158, 0.82456797,\n",
              "       0.828516  , 0.81158565, 0.81259427, 0.82464774, 0.82464774,\n",
              "       0.82464774, 0.8218687 , 0.81158565, 0.79717129, 0.79459745,\n",
              "       0.79717129, 0.78880029, 0.78880029])"
            ]
          },
          "metadata": {},
          "execution_count": 26
        }
      ]
    },
    {
      "cell_type": "code",
      "metadata": {
        "colab": {
          "base_uri": "https://localhost:8080/",
          "height": 267
        },
        "id": "lBUgl7j__2VT",
        "outputId": "470f7535-b878-45da-808b-1a9c85d49d7a"
      },
      "source": [
        "pd.DataFrame(y_pred, index=y_test.index).plot()\n",
        "plt.ylabel(\"Prediction\")\n",
        "plt.show()"
      ],
      "execution_count": null,
      "outputs": [
        {
          "output_type": "display_data",
          "data": {
            "image/png": "[encoded data removed]",
            "text/plain": [
              "<Figure size 432x288 with 1 Axes>"
            ]
          },
          "metadata": {
            "needs_background": "light"
          }
        }
      ]
    },
    {
      "cell_type": "code",
      "metadata": {
        "colab": {
          "base_uri": "https://localhost:8080/"
        },
        "id": "QBTLZ4hBghS1",
        "outputId": "9d25cd19-fb45-4019-bfb5-2d2641133a4f"
      },
      "source": [
        "from sklearn.metrics import mean_squared_error\n",
        "mse = mean_squared_error(y_test, y_pred)\n",
        "rmse = np.sqrt(mse)\n",
        "r2 = r2_score(y_test, y_pred)\n",
        "print('MSE:', mse)\n",
        "print('RMSE:', rmse)"
      ],
      "execution_count": null,
      "outputs": [
        {
          "output_type": "stream",
          "name": "stdout",
          "text": [
            "MSE: 0.013699996231822902\n",
            "RMSE: 0.11704698301034035\n"
          ]
        }
      ]
    },
    {
      "cell_type": "markdown",
      "metadata": {
        "id": "5dprA-DXCIxc"
      },
      "source": [
        "# k fold"
      ]
    },
    {
      "cell_type": "code",
      "metadata": {
        "id": "73h9rKpsCLnk"
      },
      "source": [
        "from sklearn.model_selection import KFold \n",
        "kfold = KFold(n_splits=10) \n",
        "num_iter = 0 \n",
        "cv_rmse = []"
      ],
      "execution_count": null,
      "outputs": []
    },
    {
      "cell_type": "code",
      "metadata": {
        "colab": {
          "base_uri": "https://localhost:8080/"
        },
        "id": "pAbNFFM-CN8U",
        "outputId": "6e4e7ad3-8196-42a0-b55a-34ef3d1e8286"
      },
      "source": [
        "for train_idx, test_idx in kfold.split(X):\n",
        "  X_train, X_test = X.iloc[train_idx, :], X.iloc[test_idx, :] \n",
        "  y_train, y_test = y.iloc[train_idx], y.iloc[test_idx] \n",
        "  \n",
        "  rf_model.fit(X_train, y_train) \n",
        "  y_pred = rf_model.predict(X_test) \n",
        "  num_iter = num_iter + 1 \n",
        "  rmse = np.sqrt(mean_squared_error(y_test, y_pred))\n",
        "  \n",
        "  print(\"{}번 검증 셋 rmse : {} \".format(num_iter, rmse)) \n",
        "  cv_rmse.append(rmse) \n",
        "  \n",
        "print(\"mean of rmse : {} \".format(round(np.mean(rmse),7)))"
      ],
      "execution_count": null,
      "outputs": [
        {
          "output_type": "stream",
          "name": "stdout",
          "text": [
            "1번 검증 셋 rmse : 0.051683637491238825 \n",
            "2번 검증 셋 rmse : 0.020189500707244356 \n",
            "3번 검증 셋 rmse : 0.027208565074028523 \n",
            "4번 검증 셋 rmse : 0.06202393302920909 \n",
            "5번 검증 셋 rmse : 0.024294466518925775 \n",
            "6번 검증 셋 rmse : 0.044729181604175 \n",
            "7번 검증 셋 rmse : 0.06112037870372773 \n",
            "8번 검증 셋 rmse : 0.04233875003051506 \n",
            "9번 검증 셋 rmse : 0.048114876322669295 \n",
            "10번 검증 셋 rmse : 0.0718101302446003 \n",
            "mean of rmse : 0.0718101 \n"
          ]
        }
      ]
    },
    {
      "cell_type": "code",
      "metadata": {
        "id": "-G4t2AZ-66vL"
      },
      "source": [
        "model_name = []\n",
        "rmse_list=[]"
      ],
      "execution_count": null,
      "outputs": []
    },
    {
      "cell_type": "markdown",
      "metadata": {
        "id": "x8pYasFH3fB_"
      },
      "source": [
        "# n_estimator = 10"
      ]
    },
    {
      "cell_type": "markdown",
      "metadata": {
        "id": "7OSWe9fn3sJ0"
      },
      "source": [
        "## max_depth = 4"
      ]
    },
    {
      "cell_type": "code",
      "metadata": {
        "colab": {
          "base_uri": "https://localhost:8080/"
        },
        "id": "Hr7yS5Nf69IZ",
        "outputId": "f5699c86-5551-4672-8a37-7feec9e7e9d3"
      },
      "source": [
        "rf_model = RandomForestRegressor(n_estimators=10,\n",
        "                              max_depth=4,\n",
        "                              n_jobs=-1,\n",
        "                              random_state=0)\n",
        "rf_model.fit(X_train, y_train)\n",
        "y_pred = rf_model.predict(X_test)\n",
        "mse = mean_squared_error(y_test, y_pred)\n",
        "rmse = np.sqrt(mse)\n",
        "print('MSE:', mse)\n",
        "print('RMSE:', rmse)\n",
        "\n",
        "model_name.append('n_estimator10/max_depth4')\n",
        "rmse_list.append(rmse)"
      ],
      "execution_count": null,
      "outputs": [
        {
          "output_type": "stream",
          "name": "stdout",
          "text": [
            "MSE: 0.007388534471889377\n",
            "RMSE: 0.08595658480820056\n"
          ]
        }
      ]
    },
    {
      "cell_type": "markdown",
      "metadata": {
        "id": "VV7azX9i3wS_"
      },
      "source": [
        "## max_depth = 5"
      ]
    },
    {
      "cell_type": "code",
      "metadata": {
        "colab": {
          "base_uri": "https://localhost:8080/"
        },
        "id": "ZIg96oTH7IML",
        "outputId": "f4782375-488c-4f45-e635-9b2ac3a0b8ef"
      },
      "source": [
        "rf_model = RandomForestRegressor(n_estimators=10,\n",
        "                              max_depth=5,\n",
        "                              n_jobs=-1,\n",
        "                              random_state=0)\n",
        "rf_model.fit(X_train, y_train)\n",
        "y_pred = rf_model.predict(X_test)\n",
        "mse = mean_squared_error(y_test, y_pred)\n",
        "rmse = np.sqrt(mse)\n",
        "print('MSE:', mse)\n",
        "print('RMSE:', rmse)\n",
        "\n",
        "model_name.append('n_estimator10/max_depth5')\n",
        "rmse_list.append(rmse)"
      ],
      "execution_count": null,
      "outputs": [
        {
          "output_type": "stream",
          "name": "stdout",
          "text": [
            "MSE: 0.003994338814204896\n",
            "RMSE: 0.06320078175311518\n"
          ]
        }
      ]
    },
    {
      "cell_type": "markdown",
      "metadata": {
        "id": "bzk8Yx3k3xMa"
      },
      "source": [
        "## max_depth = 6"
      ]
    },
    {
      "cell_type": "code",
      "metadata": {
        "colab": {
          "base_uri": "https://localhost:8080/"
        },
        "id": "Xe0bZCop7Kqr",
        "outputId": "cc3a2eba-353c-4213-acb7-41562d91fd6a"
      },
      "source": [
        "rf_model = RandomForestRegressor(n_estimators=10,\n",
        "                              max_depth=6,\n",
        "                              n_jobs=-1,\n",
        "                              random_state=0)\n",
        "rf_model.fit(X_train, y_train)\n",
        "y_pred = rf_model.predict(X_test)\n",
        "mse = mean_squared_error(y_test, y_pred)\n",
        "rmse = np.sqrt(mse)\n",
        "print('MSE:', mse)\n",
        "print('RMSE:', rmse)\n",
        "\n",
        "model_name.append('n_estimator10/max_depth6')\n",
        "rmse_list.append(rmse)"
      ],
      "execution_count": null,
      "outputs": [
        {
          "output_type": "stream",
          "name": "stdout",
          "text": [
            "MSE: 0.003590837768433313\n",
            "RMSE: 0.0599235994282162\n"
          ]
        }
      ]
    },
    {
      "cell_type": "markdown",
      "metadata": {
        "id": "rTumRUEU3yGD"
      },
      "source": [
        "## max_depth = 7"
      ]
    },
    {
      "cell_type": "code",
      "metadata": {
        "colab": {
          "base_uri": "https://localhost:8080/"
        },
        "id": "m3lgudGu7MlR",
        "outputId": "d8ab4ded-c61c-4b2d-ef4f-fa9a2ed0d144"
      },
      "source": [
        "rf_model = RandomForestRegressor(n_estimators=10,\n",
        "                              max_depth=7,\n",
        "                              n_jobs=-1,\n",
        "                              random_state=0)\n",
        "rf_model.fit(X_train, y_train)\n",
        "y_pred = rf_model.predict(X_test)\n",
        "mse = mean_squared_error(y_test, y_pred)\n",
        "rmse = np.sqrt(mse)\n",
        "print('MSE:', mse)\n",
        "print('RMSE:', rmse)\n",
        "\n",
        "model_name.append('n_estimator10/max_depth7')\n",
        "rmse_list.append(rmse)"
      ],
      "execution_count": null,
      "outputs": [
        {
          "output_type": "stream",
          "name": "stdout",
          "text": [
            "MSE: 0.005436175441234274\n",
            "RMSE: 0.07373042412216461\n"
          ]
        }
      ]
    },
    {
      "cell_type": "markdown",
      "metadata": {
        "id": "Mk8STFJX3y3Q"
      },
      "source": [
        "## max_depth = 8"
      ]
    },
    {
      "cell_type": "code",
      "metadata": {
        "colab": {
          "base_uri": "https://localhost:8080/"
        },
        "id": "Yh79xWpK7O-i",
        "outputId": "4b42ff32-a5cf-4c5b-dbda-5e7c24f15cf6"
      },
      "source": [
        "rf_model = RandomForestRegressor(n_estimators=10,\n",
        "                              max_depth=8,\n",
        "                              n_jobs=-1,\n",
        "                              random_state=0)\n",
        "rf_model.fit(X_train, y_train)\n",
        "y_pred = rf_model.predict(X_test)\n",
        "mse = mean_squared_error(y_test, y_pred)\n",
        "rmse = np.sqrt(mse)\n",
        "print('MSE:', mse)\n",
        "print('RMSE:', rmse)\n",
        "\n",
        "model_name.append('n_estimator10/max_depth8')\n",
        "rmse_list.append(rmse)"
      ],
      "execution_count": null,
      "outputs": [
        {
          "output_type": "stream",
          "name": "stdout",
          "text": [
            "MSE: 0.005363228238184598\n",
            "RMSE: 0.07323406473892186\n"
          ]
        }
      ]
    },
    {
      "cell_type": "markdown",
      "metadata": {
        "id": "F8PTJC9r30--"
      },
      "source": [
        "## max_depth = 9"
      ]
    },
    {
      "cell_type": "code",
      "metadata": {
        "colab": {
          "base_uri": "https://localhost:8080/"
        },
        "id": "AaNubc3a7Q5M",
        "outputId": "fcaa75c1-c328-4d97-ae65-2f80b554ffde"
      },
      "source": [
        "rf_model = RandomForestRegressor(n_estimators=10,\n",
        "                              max_depth=9,\n",
        "                              n_jobs=-1,\n",
        "                              random_state=0)\n",
        "rf_model.fit(X_train, y_train)\n",
        "y_pred = rf_model.predict(X_test)\n",
        "mse = mean_squared_error(y_test, y_pred)\n",
        "rmse = np.sqrt(mse)\n",
        "print('MSE:', mse)\n",
        "print('RMSE:', rmse)\n",
        "\n",
        "model_name.append('n_estimator10/max_depth9')\n",
        "rmse_list.append(rmse)"
      ],
      "execution_count": null,
      "outputs": [
        {
          "output_type": "stream",
          "name": "stdout",
          "text": [
            "MSE: 0.003702748565203975\n",
            "RMSE: 0.06085021417549798\n"
          ]
        }
      ]
    },
    {
      "cell_type": "markdown",
      "metadata": {
        "id": "6WPvDsy531sG"
      },
      "source": [
        "## max_depth = 10"
      ]
    },
    {
      "cell_type": "code",
      "metadata": {
        "colab": {
          "base_uri": "https://localhost:8080/"
        },
        "id": "VfUdgnBY7SRo",
        "outputId": "e7903310-792b-469f-b465-7c3a02a8fb9b"
      },
      "source": [
        "rf_model = RandomForestRegressor(n_estimators=10,\n",
        "                              max_depth=10,\n",
        "                              n_jobs=-1,\n",
        "                              random_state=0)\n",
        "rf_model.fit(X_train, y_train)\n",
        "y_pred = rf_model.predict(X_test)\n",
        "mse = mean_squared_error(y_test, y_pred)\n",
        "rmse = np.sqrt(mse)\n",
        "print('MSE:', mse)\n",
        "print('RMSE:', rmse)\n",
        "\n",
        "model_name.append('n_estimator10/max_depth10')\n",
        "rmse_list.append(rmse)"
      ],
      "execution_count": null,
      "outputs": [
        {
          "output_type": "stream",
          "name": "stdout",
          "text": [
            "MSE: 0.003665949132833815\n",
            "RMSE: 0.06054708195143524\n"
          ]
        }
      ]
    },
    {
      "cell_type": "markdown",
      "metadata": {
        "id": "I8AP0wur3lRl"
      },
      "source": [
        "# n_estimator = 20"
      ]
    },
    {
      "cell_type": "markdown",
      "metadata": {
        "id": "biTVHq5O33bG"
      },
      "source": [
        "## max_depth = 4"
      ]
    },
    {
      "cell_type": "code",
      "metadata": {
        "colab": {
          "base_uri": "https://localhost:8080/"
        },
        "id": "8rCEL1417Vo8",
        "outputId": "cc9343fe-48c1-438a-e8c4-173fc3f980dc"
      },
      "source": [
        "rf_model = RandomForestRegressor(n_estimators=20,\n",
        "                              max_depth=4,\n",
        "                              n_jobs=-1,\n",
        "                              random_state=0)\n",
        "rf_model.fit(X_train, y_train)\n",
        "y_pred = rf_model.predict(X_test)\n",
        "mse = mean_squared_error(y_test, y_pred)\n",
        "rmse = np.sqrt(mse)\n",
        "print('MSE:', mse)\n",
        "print('RMSE:', rmse)\n",
        "\n",
        "model_name.append('n_estimator20/max_depth4')\n",
        "rmse_list.append(rmse)"
      ],
      "execution_count": null,
      "outputs": [
        {
          "output_type": "stream",
          "name": "stdout",
          "text": [
            "MSE: 0.007024806498310124\n",
            "RMSE: 0.08381411872894759\n"
          ]
        }
      ]
    },
    {
      "cell_type": "markdown",
      "metadata": {
        "id": "dE0sZZfa34Cp"
      },
      "source": [
        "## max_depth = 5"
      ]
    },
    {
      "cell_type": "code",
      "metadata": {
        "colab": {
          "base_uri": "https://localhost:8080/"
        },
        "id": "s8f9MVu_7XWm",
        "outputId": "d07175da-deca-4cd6-8458-c1ddb8722cc3"
      },
      "source": [
        "rf_model = RandomForestRegressor(n_estimators=20,\n",
        "                              max_depth=5,\n",
        "                              n_jobs=-1,\n",
        "                              random_state=0)\n",
        "rf_model.fit(X_train, y_train)\n",
        "y_pred = rf_model.predict(X_test)\n",
        "mse = mean_squared_error(y_test, y_pred)\n",
        "rmse = np.sqrt(mse)\n",
        "print('MSE:', mse)\n",
        "print('RMSE:', rmse)\n",
        "\n",
        "model_name.append('n_estimator20/max_depth5')\n",
        "rmse_list.append(rmse)"
      ],
      "execution_count": null,
      "outputs": [
        {
          "output_type": "stream",
          "name": "stdout",
          "text": [
            "MSE: 0.005840988753309821\n",
            "RMSE: 0.07642636163857221\n"
          ]
        }
      ]
    },
    {
      "cell_type": "markdown",
      "metadata": {
        "id": "rvaYR3BZ34sm"
      },
      "source": [
        "## max_depth = 6"
      ]
    },
    {
      "cell_type": "code",
      "metadata": {
        "colab": {
          "base_uri": "https://localhost:8080/"
        },
        "id": "-0ZRsbgX7Y9C",
        "outputId": "46c1e95b-a701-4571-eb4d-2d3aace53932"
      },
      "source": [
        "rf_model = RandomForestRegressor(n_estimators=20,\n",
        "                              max_depth=6,\n",
        "                              n_jobs=-1,\n",
        "                              random_state=0)\n",
        "rf_model.fit(X_train, y_train)\n",
        "y_pred = rf_model.predict(X_test)\n",
        "mse = mean_squared_error(y_test, y_pred)\n",
        "rmse = np.sqrt(mse)\n",
        "print('MSE:', mse)\n",
        "print('RMSE:', rmse)\n",
        "\n",
        "model_name.append('n_estimator20/max_depth6')\n",
        "rmse_list.append(rmse)"
      ],
      "execution_count": null,
      "outputs": [
        {
          "output_type": "stream",
          "name": "stdout",
          "text": [
            "MSE: 0.004473056830812898\n",
            "RMSE: 0.06688091529586672\n"
          ]
        }
      ]
    },
    {
      "cell_type": "markdown",
      "metadata": {
        "id": "bNt8jdNZ35ZY"
      },
      "source": [
        "## max_depth = 7"
      ]
    },
    {
      "cell_type": "code",
      "metadata": {
        "colab": {
          "base_uri": "https://localhost:8080/"
        },
        "id": "Z_5YL8QF7bEg",
        "outputId": "3279fad0-6354-4f3a-af41-0aa92e2ecd61"
      },
      "source": [
        "rf_model = RandomForestRegressor(n_estimators=20,\n",
        "                              max_depth=7,\n",
        "                              n_jobs=-1,\n",
        "                              random_state=0)\n",
        "rf_model.fit(X_train, y_train)\n",
        "y_pred = rf_model.predict(X_test)\n",
        "mse = mean_squared_error(y_test, y_pred)\n",
        "rmse = np.sqrt(mse)\n",
        "print('MSE:', mse)\n",
        "print('RMSE:', rmse)\n",
        "\n",
        "model_name.append('n_estimator20/max_depth7')\n",
        "rmse_list.append(rmse)"
      ],
      "execution_count": null,
      "outputs": [
        {
          "output_type": "stream",
          "name": "stdout",
          "text": [
            "MSE: 0.006574412667193381\n",
            "RMSE: 0.08108275197101651\n"
          ]
        }
      ]
    },
    {
      "cell_type": "markdown",
      "metadata": {
        "id": "2MDqWF2536Cd"
      },
      "source": [
        "## max_depth = 8"
      ]
    },
    {
      "cell_type": "code",
      "metadata": {
        "colab": {
          "base_uri": "https://localhost:8080/"
        },
        "id": "KmzdBzae7cPe",
        "outputId": "49031d5d-f611-47d0-9ce2-5b7ea8331d73"
      },
      "source": [
        "rf_model = RandomForestRegressor(n_estimators=20,\n",
        "                              max_depth=8,\n",
        "                              n_jobs=-1,\n",
        "                              random_state=0)\n",
        "rf_model.fit(X_train, y_train)\n",
        "y_pred = rf_model.predict(X_test)\n",
        "mse = mean_squared_error(y_test, y_pred)\n",
        "rmse = np.sqrt(mse)\n",
        "print('MSE:', mse)\n",
        "print('RMSE:', rmse)\n",
        "\n",
        "model_name.append('n_estimator20/max_depth8')\n",
        "rmse_list.append(rmse)"
      ],
      "execution_count": null,
      "outputs": [
        {
          "output_type": "stream",
          "name": "stdout",
          "text": [
            "MSE: 0.005480534202918807\n",
            "RMSE: 0.0740306301669708\n"
          ]
        }
      ]
    },
    {
      "cell_type": "markdown",
      "metadata": {
        "id": "UneUG22_36rg"
      },
      "source": [
        "## max_depth = 9"
      ]
    },
    {
      "cell_type": "code",
      "metadata": {
        "colab": {
          "base_uri": "https://localhost:8080/"
        },
        "id": "8SBOXKFs7kqn",
        "outputId": "12e920dc-3a3a-4724-c067-226962f5fe88"
      },
      "source": [
        "rf_model = RandomForestRegressor(n_estimators=20,\n",
        "                              max_depth=9,\n",
        "                              n_jobs=-1,\n",
        "                              random_state=0)\n",
        "rf_model.fit(X_train, y_train)\n",
        "y_pred = rf_model.predict(X_test)\n",
        "mse = mean_squared_error(y_test, y_pred)\n",
        "rmse = np.sqrt(mse)\n",
        "print('MSE:', mse)\n",
        "print('RMSE:', rmse)\n",
        "\n",
        "model_name.append('n_estimator20/max_depth9')\n",
        "rmse_list.append(rmse)"
      ],
      "execution_count": null,
      "outputs": [
        {
          "output_type": "stream",
          "name": "stdout",
          "text": [
            "MSE: 0.004606621573674314\n",
            "RMSE: 0.06787209716573014\n"
          ]
        }
      ]
    },
    {
      "cell_type": "markdown",
      "metadata": {
        "id": "AJcpBvDk37Yr"
      },
      "source": [
        "## max_depth = 10"
      ]
    },
    {
      "cell_type": "code",
      "metadata": {
        "colab": {
          "base_uri": "https://localhost:8080/"
        },
        "id": "zzOlno4x7_bj",
        "outputId": "e5d1463b-10ad-4fc4-f115-a62eda12afc3"
      },
      "source": [
        "rf_model = RandomForestRegressor(n_estimators=20,\n",
        "                              max_depth=10,\n",
        "                              n_jobs=-1,\n",
        "                              random_state=0)\n",
        "rf_model.fit(X_train, y_train)\n",
        "y_pred = rf_model.predict(X_test)\n",
        "mse = mean_squared_error(y_test, y_pred)\n",
        "rmse = np.sqrt(mse)\n",
        "print('MSE:', mse)\n",
        "print('RMSE:', rmse)\n",
        "\n",
        "model_name.append('n_estimator20/max_depth10')\n",
        "rmse_list.append(rmse)"
      ],
      "execution_count": null,
      "outputs": [
        {
          "output_type": "stream",
          "name": "stdout",
          "text": [
            "MSE: 0.004502849618130382\n",
            "RMSE: 0.06710327576303844\n"
          ]
        }
      ]
    },
    {
      "cell_type": "markdown",
      "metadata": {
        "id": "A6_azjDj3mbZ"
      },
      "source": [
        "# n_estimator = 50"
      ]
    },
    {
      "cell_type": "markdown",
      "metadata": {
        "id": "_j7p4ldm383r"
      },
      "source": [
        "## max_depth = 4"
      ]
    },
    {
      "cell_type": "code",
      "metadata": {
        "colab": {
          "base_uri": "https://localhost:8080/"
        },
        "id": "1Fiuo1LD8BXp",
        "outputId": "7b0915ce-6fa9-42c2-ffbd-709711fdaded"
      },
      "source": [
        "rf_model = RandomForestRegressor(n_estimators=50,\n",
        "                              max_depth=4,\n",
        "                              n_jobs=-1,\n",
        "                              random_state=0)\n",
        "rf_model.fit(X_train, y_train)\n",
        "y_pred = rf_model.predict(X_test)\n",
        "mse = mean_squared_error(y_test, y_pred)\n",
        "rmse = np.sqrt(mse)\n",
        "print('MSE:', mse)\n",
        "print('RMSE:', rmse)\n",
        "\n",
        "model_name.append('n_estimator50/max_depth4')\n",
        "rmse_list.append(rmse)"
      ],
      "execution_count": null,
      "outputs": [
        {
          "output_type": "stream",
          "name": "stdout",
          "text": [
            "MSE: 0.007558909392877377\n",
            "RMSE: 0.08694198866415109\n"
          ]
        }
      ]
    },
    {
      "cell_type": "markdown",
      "metadata": {
        "id": "RRpi4akF39k-"
      },
      "source": [
        "## max_depth = 5"
      ]
    },
    {
      "cell_type": "code",
      "metadata": {
        "colab": {
          "base_uri": "https://localhost:8080/"
        },
        "id": "Mh8RUpIJ8DBj",
        "outputId": "62571f50-3744-4de0-aadd-7980ca5c7008"
      },
      "source": [
        "rf_model = RandomForestRegressor(n_estimators=50,\n",
        "                              max_depth=5,\n",
        "                              n_jobs=-1,\n",
        "                              random_state=0)\n",
        "rf_model.fit(X_train, y_train)\n",
        "y_pred = rf_model.predict(X_test)\n",
        "mse = mean_squared_error(y_test, y_pred)\n",
        "rmse = np.sqrt(mse)\n",
        "print('MSE:', mse)\n",
        "print('RMSE:', rmse)\n",
        "\n",
        "model_name.append('n_estimator50/max_depth5')\n",
        "rmse_list.append(rmse)"
      ],
      "execution_count": null,
      "outputs": [
        {
          "output_type": "stream",
          "name": "stdout",
          "text": [
            "MSE: 0.005967138318311365\n",
            "RMSE: 0.07724725443866187\n"
          ]
        }
      ]
    },
    {
      "cell_type": "markdown",
      "metadata": {
        "id": "3PjhD9qj3-MD"
      },
      "source": [
        "## max_depth = 6"
      ]
    },
    {
      "cell_type": "code",
      "metadata": {
        "colab": {
          "base_uri": "https://localhost:8080/"
        },
        "id": "7sG_87tG8Fu-",
        "outputId": "9122989d-a0a6-4cbd-d6e8-22df47413dcb"
      },
      "source": [
        "rf_model = RandomForestRegressor(n_estimators=50,\n",
        "                              max_depth=6,\n",
        "                              n_jobs=-1,\n",
        "                              random_state=0)\n",
        "rf_model.fit(X_train, y_train)\n",
        "y_pred = rf_model.predict(X_test)\n",
        "mse = mean_squared_error(y_test, y_pred)\n",
        "rmse = np.sqrt(mse)\n",
        "print('MSE:', mse)\n",
        "print('RMSE:', rmse)\n",
        "\n",
        "model_name.append('n_estimator50/max_depth6')\n",
        "rmse_list.append(rmse)"
      ],
      "execution_count": null,
      "outputs": [
        {
          "output_type": "stream",
          "name": "stdout",
          "text": [
            "MSE: 0.005670690635078713\n",
            "RMSE: 0.07530398817512066\n"
          ]
        }
      ]
    },
    {
      "cell_type": "markdown",
      "metadata": {
        "id": "nSM7O7SJ3-4F"
      },
      "source": [
        "## max_depth = 7"
      ]
    },
    {
      "cell_type": "code",
      "metadata": {
        "colab": {
          "base_uri": "https://localhost:8080/"
        },
        "id": "5cf--mBs8KCv",
        "outputId": "2512b7ba-92fb-4e8b-e1c6-efe9a2d0616e"
      },
      "source": [
        "rf_model = RandomForestRegressor(n_estimators=50,\n",
        "                              max_depth=7,\n",
        "                              n_jobs=-1,\n",
        "                              random_state=0)\n",
        "rf_model.fit(X_train, y_train)\n",
        "y_pred = rf_model.predict(X_test)\n",
        "mse = mean_squared_error(y_test, y_pred)\n",
        "rmse = np.sqrt(mse)\n",
        "print('MSE:', mse)\n",
        "print('RMSE:', rmse)\n",
        "\n",
        "model_name.append('n_estimator50/max_depth7')\n",
        "rmse_list.append(rmse)"
      ],
      "execution_count": null,
      "outputs": [
        {
          "output_type": "stream",
          "name": "stdout",
          "text": [
            "MSE: 0.005917997287210196\n",
            "RMSE: 0.07692852063578369\n"
          ]
        }
      ]
    },
    {
      "cell_type": "markdown",
      "metadata": {
        "id": "tJPiv1vx3_fe"
      },
      "source": [
        "## max_depth = 8"
      ]
    },
    {
      "cell_type": "code",
      "metadata": {
        "colab": {
          "base_uri": "https://localhost:8080/"
        },
        "id": "JHN9hjDy8Lsx",
        "outputId": "c1dee7db-1534-4f47-e53c-46c272ca5432"
      },
      "source": [
        "rf_model = RandomForestRegressor(n_estimators=50,\n",
        "                              max_depth=8,\n",
        "                              n_jobs=-1,\n",
        "                              random_state=0)\n",
        "rf_model.fit(X_train, y_train)\n",
        "y_pred = rf_model.predict(X_test)\n",
        "mse = mean_squared_error(y_test, y_pred)\n",
        "rmse = np.sqrt(mse)\n",
        "print('MSE:', mse)\n",
        "print('RMSE:', rmse)\n",
        "\n",
        "model_name.append('n_estimator50/max_depth8')\n",
        "rmse_list.append(rmse)"
      ],
      "execution_count": null,
      "outputs": [
        {
          "output_type": "stream",
          "name": "stdout",
          "text": [
            "MSE: 0.00561578208849785\n",
            "RMSE: 0.07493852205973808\n"
          ]
        }
      ]
    },
    {
      "cell_type": "markdown",
      "metadata": {
        "id": "RfObmbxo4AI2"
      },
      "source": [
        "## max_depth = 9"
      ]
    },
    {
      "cell_type": "code",
      "metadata": {
        "colab": {
          "base_uri": "https://localhost:8080/"
        },
        "id": "dVlRKxHV8Nn0",
        "outputId": "e458782c-51a1-4e10-c464-84fec9203c57"
      },
      "source": [
        "rf_model = RandomForestRegressor(n_estimators=50,\n",
        "                              max_depth=9,\n",
        "                              n_jobs=-1,\n",
        "                              random_state=0)\n",
        "rf_model.fit(X_train, y_train)\n",
        "y_pred = rf_model.predict(X_test)\n",
        "mse = mean_squared_error(y_test, y_pred)\n",
        "rmse = np.sqrt(mse)\n",
        "print('MSE:', mse)\n",
        "print('RMSE:', rmse)\n",
        "\n",
        "model_name.append('n_estimator50/max_depth9')\n",
        "rmse_list.append(rmse)"
      ],
      "execution_count": null,
      "outputs": [
        {
          "output_type": "stream",
          "name": "stdout",
          "text": [
            "MSE: 0.005054021671036861\n",
            "RMSE: 0.07109164276507374\n"
          ]
        }
      ]
    },
    {
      "cell_type": "markdown",
      "metadata": {
        "id": "qqvlynOr4AwP"
      },
      "source": [
        "## max_depth = 10"
      ]
    },
    {
      "cell_type": "code",
      "metadata": {
        "colab": {
          "base_uri": "https://localhost:8080/"
        },
        "id": "lqBQQNVS8PKM",
        "outputId": "5160a4e1-9e32-4d99-923a-ac156b7da8db"
      },
      "source": [
        "rf_model = RandomForestRegressor(n_estimators=50,\n",
        "                              max_depth=10,\n",
        "                              n_jobs=-1,\n",
        "                              random_state=0)\n",
        "rf_model.fit(X_train, y_train)\n",
        "y_pred = rf_model.predict(X_test)\n",
        "mse = mean_squared_error(y_test, y_pred)\n",
        "rmse = np.sqrt(mse)\n",
        "print('MSE:', mse)\n",
        "print('RMSE:', rmse)\n",
        "\n",
        "model_name.append('n_estimator50/max_depth10')\n",
        "rmse_list.append(rmse)"
      ],
      "execution_count": null,
      "outputs": [
        {
          "output_type": "stream",
          "name": "stdout",
          "text": [
            "MSE: 0.005149045030019768\n",
            "RMSE: 0.07175684657243354\n"
          ]
        }
      ]
    },
    {
      "cell_type": "markdown",
      "metadata": {
        "id": "pFl_-nJ13nhe"
      },
      "source": [
        "# n_estimator = 100"
      ]
    },
    {
      "cell_type": "markdown",
      "metadata": {
        "id": "HgvPm4_M4CBe"
      },
      "source": [
        "## max_depth = 4"
      ]
    },
    {
      "cell_type": "code",
      "metadata": {
        "colab": {
          "base_uri": "https://localhost:8080/"
        },
        "id": "FlD2wC7I8Qs1",
        "outputId": "5d7ea23b-a9bf-4d87-87ac-9aeb16b6630a"
      },
      "source": [
        "rf_model = RandomForestRegressor(n_estimators=100,\n",
        "                              max_depth=4,\n",
        "                              n_jobs=-1,\n",
        "                              random_state=0)\n",
        "rf_model.fit(X_train, y_train)\n",
        "y_pred = rf_model.predict(X_test)\n",
        "mse = mean_squared_error(y_test, y_pred)\n",
        "rmse = np.sqrt(mse)\n",
        "print('MSE:', mse)\n",
        "print('RMSE:', rmse)\n",
        "\n",
        "model_name.append('n_estimator100/max_depth4')\n",
        "rmse_list.append(rmse)"
      ],
      "execution_count": null,
      "outputs": [
        {
          "output_type": "stream",
          "name": "stdout",
          "text": [
            "MSE: 0.008520275781715199\n",
            "RMSE: 0.09230533994149634\n"
          ]
        }
      ]
    },
    {
      "cell_type": "markdown",
      "metadata": {
        "id": "NVANGIQN4Cnv"
      },
      "source": [
        "## max_depth = 5"
      ]
    },
    {
      "cell_type": "code",
      "metadata": {
        "colab": {
          "base_uri": "https://localhost:8080/"
        },
        "id": "C5NUoJAf8UB9",
        "outputId": "40d3f9c9-293a-47f4-8bd0-1660fc2594da"
      },
      "source": [
        "rf_model = RandomForestRegressor(n_estimators=100,\n",
        "                              max_depth=5,\n",
        "                              n_jobs=-1,\n",
        "                              random_state=0)\n",
        "rf_model.fit(X_train, y_train)\n",
        "y_pred = rf_model.predict(X_test)\n",
        "mse = mean_squared_error(y_test, y_pred)\n",
        "rmse = np.sqrt(mse)\n",
        "print('MSE:', mse)\n",
        "print('RMSE:', rmse)\n",
        "\n",
        "model_name.append('n_estimator100/max_depth5')\n",
        "rmse_list.append(rmse)"
      ],
      "execution_count": null,
      "outputs": [
        {
          "output_type": "stream",
          "name": "stdout",
          "text": [
            "MSE: 0.006090984405747581\n",
            "RMSE: 0.07804475898961814\n"
          ]
        }
      ]
    },
    {
      "cell_type": "markdown",
      "metadata": {
        "id": "D6nmdejO4DPo"
      },
      "source": [
        "## max_depth = 6"
      ]
    },
    {
      "cell_type": "code",
      "metadata": {
        "colab": {
          "base_uri": "https://localhost:8080/"
        },
        "id": "YNQzKtiF8Vjl",
        "outputId": "06a34914-5f83-4b60-b205-95bf0aa8f0ae"
      },
      "source": [
        "rf_model = RandomForestRegressor(n_estimators=100,\n",
        "                              max_depth=6,\n",
        "                              n_jobs=-1,\n",
        "                              random_state=0)\n",
        "rf_model.fit(X_train, y_train)\n",
        "y_pred = rf_model.predict(X_test)\n",
        "mse = mean_squared_error(y_test, y_pred)\n",
        "rmse = np.sqrt(mse)\n",
        "print('MSE:', mse)\n",
        "print('RMSE:', rmse)\n",
        "\n",
        "model_name.append('n_estimator100/max_depth6')\n",
        "rmse_list.append(rmse)"
      ],
      "execution_count": null,
      "outputs": [
        {
          "output_type": "stream",
          "name": "stdout",
          "text": [
            "MSE: 0.00589238071597683\n",
            "RMSE: 0.07676184414132343\n"
          ]
        }
      ]
    },
    {
      "cell_type": "markdown",
      "metadata": {
        "id": "SZT6mMOv4D4x"
      },
      "source": [
        "## max_depth = 7"
      ]
    },
    {
      "cell_type": "code",
      "metadata": {
        "colab": {
          "base_uri": "https://localhost:8080/"
        },
        "id": "pGPrnjI98XO_",
        "outputId": "c94a4d1f-e11a-4b3b-c482-ee5f53f1ec0a"
      },
      "source": [
        "rf_model = RandomForestRegressor(n_estimators=100,\n",
        "                              max_depth=7,\n",
        "                              n_jobs=-1,\n",
        "                              random_state=0)\n",
        "rf_model.fit(X_train, y_train)\n",
        "y_pred = rf_model.predict(X_test)\n",
        "mse = mean_squared_error(y_test, y_pred)\n",
        "rmse = np.sqrt(mse)\n",
        "print('MSE:', mse)\n",
        "print('RMSE:', rmse)\n",
        "\n",
        "model_name.append('n_estimator100/max_depth7')\n",
        "rmse_list.append(rmse)"
      ],
      "execution_count": null,
      "outputs": [
        {
          "output_type": "stream",
          "name": "stdout",
          "text": [
            "MSE: 0.006132537177137172\n",
            "RMSE: 0.07831051766612944\n"
          ]
        }
      ]
    },
    {
      "cell_type": "markdown",
      "metadata": {
        "id": "AvEyZPEf4EoM"
      },
      "source": [
        "## max_depth = 8"
      ]
    },
    {
      "cell_type": "code",
      "metadata": {
        "colab": {
          "base_uri": "https://localhost:8080/"
        },
        "id": "gGgkswP28ZhM",
        "outputId": "6213950f-53f4-4455-b29d-b38e73fd2f75"
      },
      "source": [
        "rf_model = RandomForestRegressor(n_estimators=100,\n",
        "                              max_depth=8,\n",
        "                              n_jobs=-1,\n",
        "                              random_state=0)\n",
        "rf_model.fit(X_train, y_train)\n",
        "y_pred = rf_model.predict(X_test)\n",
        "mse = mean_squared_error(y_test, y_pred)\n",
        "rmse = np.sqrt(mse)\n",
        "print('MSE:', mse)\n",
        "print('RMSE:', rmse)\n",
        "\n",
        "model_name.append('n_estimator100/max_depth8')\n",
        "rmse_list.append(rmse)"
      ],
      "execution_count": null,
      "outputs": [
        {
          "output_type": "stream",
          "name": "stdout",
          "text": [
            "MSE: 0.006385051222216276\n",
            "RMSE: 0.0799065155179243\n"
          ]
        }
      ]
    },
    {
      "cell_type": "markdown",
      "metadata": {
        "id": "rxac7gXM4FNj"
      },
      "source": [
        "## max_depth = 9"
      ]
    },
    {
      "cell_type": "code",
      "metadata": {
        "colab": {
          "base_uri": "https://localhost:8080/"
        },
        "id": "TsEboLZL8bNg",
        "outputId": "bdf6097d-f83b-412b-c7d0-647f17e2e93d"
      },
      "source": [
        "rf_model = RandomForestRegressor(n_estimators=100,\n",
        "                              max_depth=9,\n",
        "                              n_jobs=-1,\n",
        "                              random_state=0)\n",
        "rf_model.fit(X_train, y_train)\n",
        "y_pred = rf_model.predict(X_test)\n",
        "mse = mean_squared_error(y_test, y_pred)\n",
        "rmse = np.sqrt(mse)\n",
        "print('MSE:', mse)\n",
        "print('RMSE:', rmse)\n",
        "\n",
        "model_name.append('n_estimator100/max_depth9')\n",
        "rmse_list.append(rmse)"
      ],
      "execution_count": null,
      "outputs": [
        {
          "output_type": "stream",
          "name": "stdout",
          "text": [
            "MSE: 0.007126929947521255\n",
            "RMSE: 0.08442114632911149\n"
          ]
        }
      ]
    },
    {
      "cell_type": "markdown",
      "metadata": {
        "id": "HNA5ipfo4FyR"
      },
      "source": [
        "## max_depth = 10"
      ]
    },
    {
      "cell_type": "code",
      "metadata": {
        "colab": {
          "base_uri": "https://localhost:8080/"
        },
        "id": "i0H3Fhre8dFq",
        "outputId": "e3eebcfc-054e-42f8-c4e3-087e81be38c9"
      },
      "source": [
        "rf_model = RandomForestRegressor(n_estimators=100,\n",
        "                              max_depth=10,\n",
        "                              n_jobs=-1,\n",
        "                              random_state=0)\n",
        "rf_model.fit(X_train, y_train)\n",
        "y_pred = rf_model.predict(X_test)\n",
        "mse = mean_squared_error(y_test, y_pred)\n",
        "rmse = np.sqrt(mse)\n",
        "print('MSE:', mse)\n",
        "print('RMSE:', rmse)\n",
        "\n",
        "model_name.append('n_estimator100/max_depth10')\n",
        "rmse_list.append(rmse)"
      ],
      "execution_count": null,
      "outputs": [
        {
          "output_type": "stream",
          "name": "stdout",
          "text": [
            "MSE: 0.005978581604709785\n",
            "RMSE: 0.07732128817285563\n"
          ]
        }
      ]
    },
    {
      "cell_type": "code",
      "metadata": {
        "colab": {
          "base_uri": "https://localhost:8080/",
          "height": 914
        },
        "id": "KOuOSkhe8fN6",
        "outputId": "a6e91535-1d2e-4efd-89c4-7b99454c508a"
      },
      "source": [
        "result = pd.DataFrame({\n",
        "    'model' : model_name,\n",
        "    'rmse' : rmse_list\n",
        "})\n",
        "\n",
        "result.to_csv('/content/매매가격지수_RF_금리제외.csv')\n",
        "result"
      ],
      "execution_count": null,
      "outputs": [
        {
          "output_type": "execute_result",
          "data": {
            "text/html": [
              "<div>\n",
              "<style scoped>\n",
              "    .dataframe tbody tr th:only-of-type {\n",
              "        vertical-align: middle;\n",
              "    }\n",
              "\n",
              "    .dataframe tbody tr th {\n",
              "        vertical-align: top;\n",
              "    }\n",
              "\n",
              "    .dataframe thead th {\n",
              "        text-align: right;\n",
              "    }\n",
              "</style>\n",
              "<table border=\"1\" class=\"dataframe\">\n",
              "  <thead>\n",
              "    <tr style=\"text-align: right;\">\n",
              "      <th></th>\n",
              "      <th>model</th>\n",
              "      <th>rmse</th>\n",
              "    </tr>\n",
              "  </thead>\n",
              "  <tbody>\n",
              "    <tr>\n",
              "      <th>0</th>\n",
              "      <td>n_estimator10/max_depth4</td>\n",
              "      <td>0.085957</td>\n",
              "    </tr>\n",
              "    <tr>\n",
              "      <th>1</th>\n",
              "      <td>n_estimator10/max_depth5</td>\n",
              "      <td>0.063201</td>\n",
              "    </tr>\n",
              "    <tr>\n",
              "      <th>2</th>\n",
              "      <td>n_estimator10/max_depth6</td>\n",
              "      <td>0.059924</td>\n",
              "    </tr>\n",
              "    <tr>\n",
              "      <th>3</th>\n",
              "      <td>n_estimator10/max_depth7</td>\n",
              "      <td>0.073730</td>\n",
              "    </tr>\n",
              "    <tr>\n",
              "      <th>4</th>\n",
              "      <td>n_estimator10/max_depth8</td>\n",
              "      <td>0.073234</td>\n",
              "    </tr>\n",
              "    <tr>\n",
              "      <th>5</th>\n",
              "      <td>n_estimator10/max_depth9</td>\n",
              "      <td>0.060850</td>\n",
              "    </tr>\n",
              "    <tr>\n",
              "      <th>6</th>\n",
              "      <td>n_estimator10/max_depth10</td>\n",
              "      <td>0.060547</td>\n",
              "    </tr>\n",
              "    <tr>\n",
              "      <th>7</th>\n",
              "      <td>n_estimator20/max_depth4</td>\n",
              "      <td>0.083814</td>\n",
              "    </tr>\n",
              "    <tr>\n",
              "      <th>8</th>\n",
              "      <td>n_estimator20/max_depth5</td>\n",
              "      <td>0.076426</td>\n",
              "    </tr>\n",
              "    <tr>\n",
              "      <th>9</th>\n",
              "      <td>n_estimator20/max_depth6</td>\n",
              "      <td>0.066881</td>\n",
              "    </tr>\n",
              "    <tr>\n",
              "      <th>10</th>\n",
              "      <td>n_estimator20/max_depth7</td>\n",
              "      <td>0.081083</td>\n",
              "    </tr>\n",
              "    <tr>\n",
              "      <th>11</th>\n",
              "      <td>n_estimator20/max_depth8</td>\n",
              "      <td>0.074031</td>\n",
              "    </tr>\n",
              "    <tr>\n",
              "      <th>12</th>\n",
              "      <td>n_estimator20/max_depth9</td>\n",
              "      <td>0.067872</td>\n",
              "    </tr>\n",
              "    <tr>\n",
              "      <th>13</th>\n",
              "      <td>n_estimator20/max_depth10</td>\n",
              "      <td>0.067103</td>\n",
              "    </tr>\n",
              "    <tr>\n",
              "      <th>14</th>\n",
              "      <td>n_estimator50/max_depth4</td>\n",
              "      <td>0.086942</td>\n",
              "    </tr>\n",
              "    <tr>\n",
              "      <th>15</th>\n",
              "      <td>n_estimator50/max_depth5</td>\n",
              "      <td>0.077247</td>\n",
              "    </tr>\n",
              "    <tr>\n",
              "      <th>16</th>\n",
              "      <td>n_estimator50/max_depth6</td>\n",
              "      <td>0.075304</td>\n",
              "    </tr>\n",
              "    <tr>\n",
              "      <th>17</th>\n",
              "      <td>n_estimator50/max_depth7</td>\n",
              "      <td>0.076929</td>\n",
              "    </tr>\n",
              "    <tr>\n",
              "      <th>18</th>\n",
              "      <td>n_estimator50/max_depth8</td>\n",
              "      <td>0.074939</td>\n",
              "    </tr>\n",
              "    <tr>\n",
              "      <th>19</th>\n",
              "      <td>n_estimator50/max_depth9</td>\n",
              "      <td>0.071092</td>\n",
              "    </tr>\n",
              "    <tr>\n",
              "      <th>20</th>\n",
              "      <td>n_estimator50/max_depth10</td>\n",
              "      <td>0.071757</td>\n",
              "    </tr>\n",
              "    <tr>\n",
              "      <th>21</th>\n",
              "      <td>n_estimator100/max_depth4</td>\n",
              "      <td>0.092305</td>\n",
              "    </tr>\n",
              "    <tr>\n",
              "      <th>22</th>\n",
              "      <td>n_estimator100/max_depth5</td>\n",
              "      <td>0.078045</td>\n",
              "    </tr>\n",
              "    <tr>\n",
              "      <th>23</th>\n",
              "      <td>n_estimator100/max_depth6</td>\n",
              "      <td>0.076762</td>\n",
              "    </tr>\n",
              "    <tr>\n",
              "      <th>24</th>\n",
              "      <td>n_estimator100/max_depth7</td>\n",
              "      <td>0.078311</td>\n",
              "    </tr>\n",
              "    <tr>\n",
              "      <th>25</th>\n",
              "      <td>n_estimator100/max_depth8</td>\n",
              "      <td>0.079907</td>\n",
              "    </tr>\n",
              "    <tr>\n",
              "      <th>26</th>\n",
              "      <td>n_estimator100/max_depth9</td>\n",
              "      <td>0.084421</td>\n",
              "    </tr>\n",
              "    <tr>\n",
              "      <th>27</th>\n",
              "      <td>n_estimator100/max_depth10</td>\n",
              "      <td>0.077321</td>\n",
              "    </tr>\n",
              "  </tbody>\n",
              "</table>\n",
              "</div>"
            ],
            "text/plain": [
              "                         model      rmse\n",
              "0     n_estimator10/max_depth4  0.085957\n",
              "1     n_estimator10/max_depth5  0.063201\n",
              "2     n_estimator10/max_depth6  0.059924\n",
              "3     n_estimator10/max_depth7  0.073730\n",
              "4     n_estimator10/max_depth8  0.073234\n",
              "5     n_estimator10/max_depth9  0.060850\n",
              "6    n_estimator10/max_depth10  0.060547\n",
              "7     n_estimator20/max_depth4  0.083814\n",
              "8     n_estimator20/max_depth5  0.076426\n",
              "9     n_estimator20/max_depth6  0.066881\n",
              "10    n_estimator20/max_depth7  0.081083\n",
              "11    n_estimator20/max_depth8  0.074031\n",
              "12    n_estimator20/max_depth9  0.067872\n",
              "13   n_estimator20/max_depth10  0.067103\n",
              "14    n_estimator50/max_depth4  0.086942\n",
              "15    n_estimator50/max_depth5  0.077247\n",
              "16    n_estimator50/max_depth6  0.075304\n",
              "17    n_estimator50/max_depth7  0.076929\n",
              "18    n_estimator50/max_depth8  0.074939\n",
              "19    n_estimator50/max_depth9  0.071092\n",
              "20   n_estimator50/max_depth10  0.071757\n",
              "21   n_estimator100/max_depth4  0.092305\n",
              "22   n_estimator100/max_depth5  0.078045\n",
              "23   n_estimator100/max_depth6  0.076762\n",
              "24   n_estimator100/max_depth7  0.078311\n",
              "25   n_estimator100/max_depth8  0.079907\n",
              "26   n_estimator100/max_depth9  0.084421\n",
              "27  n_estimator100/max_depth10  0.077321"
            ]
          },
          "metadata": {},
          "execution_count": 62
        }
      ]
    },
    {
      "cell_type": "markdown",
      "metadata": {
        "id": "YjOBx75r0z7K"
      },
      "source": [
        "# GridSearch"
      ]
    },
    {
      "cell_type": "code",
      "metadata": {
        "id": "8HO8cAtu0sFi"
      },
      "source": [
        "params ={\n",
        "    'n_estimators':[10, 20, 50, 100, 150, 200],\n",
        "    'max_depth':[4, 5, 6, 7, 8, 9, 10]\n",
        "    }"
      ],
      "execution_count": null,
      "outputs": []
    },
    {
      "cell_type": "code",
      "metadata": {
        "id": "ekKn4GR5ySDW"
      },
      "source": [
        "from sklearn.model_selection import KFold \n",
        "kfold = KFold(n_splits=10) "
      ],
      "execution_count": null,
      "outputs": []
    },
    {
      "cell_type": "code",
      "metadata": {
        "id": "qrcAZyCnYOZt"
      },
      "source": [
        "rf_reg = RandomForestRegressor()"
      ],
      "execution_count": null,
      "outputs": []
    },
    {
      "cell_type": "code",
      "metadata": {
        "colab": {
          "base_uri": "https://localhost:8080/"
        },
        "id": "Tlks_SEW0sIL",
        "outputId": "3b8994d0-b802-4ffb-e794-b74198a9b76f"
      },
      "source": [
        "grid_cv = GridSearchCV(estimator=rf_reg, \n",
        "                       param_grid=params, \n",
        "                       cv=kfold , \n",
        "                       n_jobs=-1)\n",
        "grid_cv.fit(X_train,y_train)"
      ],
      "execution_count": null,
      "outputs": [
        {
          "output_type": "execute_result",
          "data": {
            "text/plain": [
              "GridSearchCV(cv=KFold(n_splits=10, random_state=None, shuffle=False),\n",
              "             error_score=nan,\n",
              "             estimator=RandomForestRegressor(bootstrap=True, ccp_alpha=0.0,\n",
              "                                             criterion='mse', max_depth=None,\n",
              "                                             max_features='auto',\n",
              "                                             max_leaf_nodes=None,\n",
              "                                             max_samples=None,\n",
              "                                             min_impurity_decrease=0.0,\n",
              "                                             min_impurity_split=None,\n",
              "                                             min_samples_leaf=1,\n",
              "                                             min_samples_split=2,\n",
              "                                             min_weight_fraction_leaf=0.0,\n",
              "                                             n_estimators=100, n_jobs=None,\n",
              "                                             oob_score=False, random_state=None,\n",
              "                                             verbose=0, warm_start=False),\n",
              "             iid='deprecated', n_jobs=-1,\n",
              "             param_grid={'max_depth': [4, 5, 6, 7, 8, 9, 10],\n",
              "                         'n_estimators': [10, 20, 50, 100, 150, 200]},\n",
              "             pre_dispatch='2*n_jobs', refit=True, return_train_score=False,\n",
              "             scoring=None, verbose=0)"
            ]
          },
          "metadata": {},
          "execution_count": 34
        }
      ]
    },
    {
      "cell_type": "code",
      "metadata": {
        "colab": {
          "base_uri": "https://localhost:8080/"
        },
        "id": "dtov04f4043v",
        "outputId": "f068303a-1206-447e-fb47-465e21287c77"
      },
      "source": [
        "grid_cv.best_params_"
      ],
      "execution_count": null,
      "outputs": [
        {
          "output_type": "execute_result",
          "data": {
            "text/plain": [
              "{'max_depth': 6, 'n_estimators': 100}"
            ]
          },
          "metadata": {},
          "execution_count": 35
        }
      ]
    },
    {
      "cell_type": "code",
      "metadata": {
        "id": "n7TBd1Ox1PX0"
      },
      "source": [
        "rfc1=RandomForestRegressor(max_depth= 6,\n",
        "                            n_estimators= 100,\n",
        "                            random_state = 0)"
      ],
      "execution_count": null,
      "outputs": []
    },
    {
      "cell_type": "code",
      "metadata": {
        "colab": {
          "base_uri": "https://localhost:8080/"
        },
        "id": "aFXSiMwn046N",
        "outputId": "a870b6eb-e8ca-4cd7-ae95-d3ce026f4dbf"
      },
      "source": [
        "rfc1.fit(X_train, y_train)"
      ],
      "execution_count": null,
      "outputs": [
        {
          "output_type": "execute_result",
          "data": {
            "text/plain": [
              "RandomForestRegressor(bootstrap=True, ccp_alpha=0.0, criterion='mse',\n",
              "                      max_depth=6, max_features='auto', max_leaf_nodes=None,\n",
              "                      max_samples=None, min_impurity_decrease=0.0,\n",
              "                      min_impurity_split=None, min_samples_leaf=1,\n",
              "                      min_samples_split=2, min_weight_fraction_leaf=0.0,\n",
              "                      n_estimators=100, n_jobs=None, oob_score=False,\n",
              "                      random_state=0, verbose=0, warm_start=False)"
            ]
          },
          "metadata": {},
          "execution_count": 37
        }
      ]
    },
    {
      "cell_type": "code",
      "metadata": {
        "id": "6oDavJLg048j",
        "colab": {
          "base_uri": "https://localhost:8080/"
        },
        "outputId": "fd1e7fde-7941-4fb9-845d-5ef45a74955a"
      },
      "source": [
        "pred=rfc1.predict(X_test)\n",
        "pred"
      ],
      "execution_count": null,
      "outputs": [
        {
          "output_type": "execute_result",
          "data": {
            "text/plain": [
              "array([0.88402048, 0.88402048, 0.88402048, 0.89036876, 0.89412911,\n",
              "       0.88606267, 0.88026696, 0.88026696, 0.87720756, 0.87720756])"
            ]
          },
          "metadata": {},
          "execution_count": 38
        }
      ]
    },
    {
      "cell_type": "code",
      "metadata": {
        "colab": {
          "base_uri": "https://localhost:8080/",
          "height": 265
        },
        "id": "7lTkSUcnleJP",
        "outputId": "c3426bf2-9222-42e2-e128-eb4084b80dea"
      },
      "source": [
        "pd.DataFrame(pred, index=y_test.index).plot()\n",
        "plt.ylabel(\"Prediction\")\n",
        "plt.show()"
      ],
      "execution_count": null,
      "outputs": [
        {
          "output_type": "display_data",
          "data": {
            "image/png": "[encoded data removed]",
            "text/plain": [
              "<Figure size 432x288 with 1 Axes>"
            ]
          },
          "metadata": {
            "needs_background": "light"
          }
        }
      ]
    },
    {
      "cell_type": "code",
      "metadata": {
        "colab": {
          "base_uri": "https://localhost:8080/"
        },
        "id": "UFoamO_Sg7wc",
        "outputId": "ff07902c-8e61-4ae1-81be-3d913d575c5d"
      },
      "source": [
        "mse = mean_squared_error(y_test,pred)\n",
        "rmse = np.sqrt(mse)\n",
        "print('MSE:', mse)\n",
        "print('RMSE:', rmse)"
      ],
      "execution_count": null,
      "outputs": [
        {
          "output_type": "stream",
          "name": "stdout",
          "text": [
            "MSE: 0.00589238071597683\n",
            "RMSE: 0.07676184414132343\n"
          ]
        }
      ]
    }
  ]
}